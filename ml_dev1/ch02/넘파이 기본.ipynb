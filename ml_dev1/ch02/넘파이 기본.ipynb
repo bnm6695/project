{
 "cells": [
  {
   "cell_type": "markdown",
   "metadata": {},
   "source": [
    "---\n",
    "#### 넘파이\n",
    "---\n",
    "\n",
    "1. 넘파이란\n",
    "- 파이썬에서 수치 계산을 효율적으로 할 수 있도록 지원하는 라이브러리\n",
    "- 다차원 배열 객체(ndarray) 를 제공\n",
    "- 벡터, 행렬 연산과 같은 고속으로 수행할 수 있도록 최적화되어 있다.\n",
    "- 과학 계산, 머신러닝(딥러닝), 데이터 분석등 다양한 분야에 사용\n",
    "\n",
    "2. 특징\n",
    "- 고속 연산 지원 : C언어로 구현되어 내부 연산이 빠르다\n",
    "- 다차원 배열 지원\n",
    "- 브로드캐스팅 지원 : 서로 다른 크기의 배열 간 연산을 가능 \n",
    "- 다양한 수학 함수 지원 : 선형대수, 통계, 랜덤 샘플링 등의 다양한 함수 지원\n",
    "- python 리스트보다 메모리 효율적 사용\n"
   ]
  },
  {
   "cell_type": "code",
   "execution_count": 1,
   "metadata": {},
   "outputs": [],
   "source": [
    "# 3. 넘파이 기본 사용법\n",
    "# 설치 : pip(conda) install numpy\n",
    "import numpy as np\n"
   ]
  },
  {
   "cell_type": "code",
   "execution_count": 2,
   "metadata": {},
   "outputs": [
    {
     "name": "stdout",
     "output_type": "stream",
     "text": [
      "[1 2 3 4 5]\n",
      "[[1 2 3]\n",
      " [4 5 6]]\n",
      "[[[1 2]\n",
      "  [3 4]\n",
      "  [5 6]\n",
      "  [7 8]]]\n"
     ]
    }
   ],
   "source": [
    "# 4. 주요 기능 및 예제\n",
    "# 4.1 배열 생성(np.array(리스트, 튜플))\n",
    "# 1차원 배열 생성\n",
    "arr1 = np.array([1,2,3,4,5])\n",
    "# 2차원 배열 생성 \n",
    "arr2 = np.array([\n",
    "    [1,2,3]\n",
    "    ,[4,5,6]\n",
    "])\n",
    "# 3차원 배열 생성\n",
    "arr3 = np.array([[\n",
    "    [1,2]\n",
    "    ,[3,4]\n",
    "    ,[5,6]\n",
    "    ,[7,8]\n",
    "]])\n",
    "print(arr1)\n",
    "print(arr2)\n",
    "print(arr3)"
   ]
  },
  {
   "cell_type": "code",
   "execution_count": 17,
   "metadata": {},
   "outputs": [
    {
     "name": "stdout",
     "output_type": "stream",
     "text": [
      "배열의 차원 : 2\n",
      "배열의 크기 : (1, 4, 2)\n",
      "배열의 원소 개수 :  6\n",
      "배열의 데이터 타입 :  int64\n"
     ]
    }
   ],
   "source": [
    "# ndarray object attribute\n",
    "print('배열의 차원 :', arr2.ndim)\n",
    "print('배열의 크기 :', arr3.shape)\n",
    "print('배열의 원소 개수 : ', arr2.size)\n",
    "print('배열의 데이터 타입 : ', arr2.dtype) # ndarray 는 동일타입만 저장할 수 있다."
   ]
  },
  {
   "cell_type": "code",
   "execution_count": 25,
   "metadata": {},
   "outputs": [
    {
     "name": "stdout",
     "output_type": "stream",
     "text": [
      "[[0. 0. 0.]\n",
      " [0. 0. 0.]\n",
      " [0. 0. 0.]]\n",
      "[[1. 1. 1. 1.]\n",
      " [1. 1. 1. 1.]]\n",
      "[[5 5]\n",
      " [5 5]]\n",
      "[1 3 5 7 9]\n",
      "[  0.  25.  50.  75. 100.]\n"
     ]
    }
   ],
   "source": [
    "# 4.3 특정값을 갖는 배열 생성\n",
    "# 0값을 갖는 배열 : np.zeros((행,열))\n",
    "zeros = np.zeros((3,3))\n",
    "print(zeros)\n",
    "# 1값을 갖는 배열 : np.ones((행,열))\n",
    "ones_=np.ones((2,4))\n",
    "print(ones_)\n",
    "# 특정값으로 채운 배열 : np.full((행,열),특정값)\n",
    "full=np.full((2,2),5)\n",
    "print(full)\n",
    "# 연속된 숫자로 채운 배열 : np.arrange(start, end-1, step)\n",
    "arange_arr=np.arange(1,10,2)\n",
    "print(arange_arr)\n",
    "# np.linspace(start, end, count) : 균등한 간격으로 생성\n",
    "lin_arr=np.linspace(0,100,5) # 0~100 사이에서 5개 값으로 생성\n",
    "print(lin_arr)"
   ]
  },
  {
   "cell_type": "code",
   "execution_count": null,
   "metadata": {},
   "outputs": [
    {
     "name": "stdout",
     "output_type": "stream",
     "text": [
      "[[0.37454012 0.95071431 0.73199394 0.59865848]\n",
      " [0.15601864 0.15599452 0.05808361 0.86617615]\n",
      " [0.60111501 0.70807258 0.02058449 0.96990985]]\n",
      "[[0.83244264 0.21233911]\n",
      " [0.18182497 0.18340451]]\n",
      "[[2 2 1 1]\n",
      " [1 3 3 3]]\n"
     ]
    }
   ],
   "source": [
    "# 4.4 난수 배열 (ndarray) 생성\n",
    "# numpy의 random 모듈을 사용하면 다양한 난수 배열을 생성할 수 있다.\n",
    "# np.random.rand(행,열) : 0~1사이의 난수를 가진 배열 생성 \n",
    "np.random.seed(42) # 42 => 아무의미 없다 그냥 씀 숫자 암거나 넣어도 됨\n",
    "rand_arr=np.random.rand(3,4)\n",
    "print(rand_arr)\n",
    "# 정규분포를 따르는 난수 배열 생성 : np.random.randn(행, 열)\n",
    "randn_arr=np.random.rand(2,2)\n",
    "print(randn_arr)\n",
    "# 특정 범위의 정수 난수 배열 생성 : np.random.randint(start, end, [(행,열)])\n",
    "randint_arr=np.random.randint(1,4,(2,4))\n",
    "print(randint_arr)\n"
   ]
  },
  {
   "cell_type": "code",
   "execution_count": 48,
   "metadata": {},
   "outputs": [
    {
     "name": "stdout",
     "output_type": "stream",
     "text": [
      "덧셈 :  [4 6]\n",
      "뺄셈 :  [-2 -2]\n",
      "곱셉 :  [3 8]\n",
      "제곱 :  [ 1 16]\n"
     ]
    }
   ],
   "source": [
    "# 4.5 배열 연산(더하기,빼기,곱셉,나눗셈,제곱)\n",
    "a_vector=np.array([1,2])\n",
    "b_vector=np.array([3,4])\n",
    "\n",
    "print('덧셈 : ', a_vector+b_vector)\n",
    "print('뺄셈 : ', a_vector-b_vector)\n",
    "print('곱셉 : ', a_vector*b_vector)\n",
    "print('제곱 : ', a_vector**b_vector)"
   ]
  },
  {
   "cell_type": "code",
   "execution_count": 57,
   "metadata": {},
   "outputs": [
    {
     "name": "stdout",
     "output_type": "stream",
     "text": [
      "첫번째 행, 두번째 열 :  2\n",
      "첫번째 행, 두번째 열 :  2\n",
      "첫번째 행 :  [1 2 3]\n",
      "첫번째 행 :  [1 2 3]\n",
      "두번째 열 :  [2 5 8]\n",
      "2x2 부분 배열 :  [[5 6]\n",
      " [8 9]]\n"
     ]
    }
   ],
   "source": [
    "# 배열 인덱싱 및 슬라이싱\n",
    "arr=np.array([\n",
    "    [1,2,3]\n",
    "    ,[4,5,6]\n",
    "    ,[7,8,9]\n",
    "])\n",
    "# arr.shape\n",
    "# 특정 요소 접근 : 인덱싱 => 단일값 추출\n",
    "print('첫번째 행, 두번째 열 : ', arr[0][1]) # arr[행][열]\n",
    "print('첫번째 행, 두번째 열 : ', arr[0,1]) # arr[행,열]\n",
    "# 특정 행 전체 슬라이싱 \n",
    "print('첫번째 행 : ', arr[0])\n",
    "print('첫번째 행 : ', arr[0,:]) # arr[행, 열자리(start:end)]\n",
    "# 특정 열 슬라이싱\n",
    "print('두번째 열 : ', arr[:,1])\n",
    "# 부분 배열 가져오기\n",
    "print('2x2 부분 배열 : ', arr[1:3,1:3]) # arr[1:2, 1:2]"
   ]
  },
  {
   "cell_type": "code",
   "execution_count": 62,
   "metadata": {},
   "outputs": [
    {
     "name": "stdout",
     "output_type": "stream",
     "text": [
      "행열 곱 : [[ 5  5]\n",
      " [11 11]]\n"
     ]
    }
   ],
   "source": [
    "# 4.7 선호대수 연산\n",
    "# X : 데이터, W: 가중치\n",
    "# dot product : \n",
    "# 선형변환(Linear Transformation) : 주어진 벡터 데이터를 다른 차원으로 변환하거나 \n",
    "# 특정 방향으로 확장/축소하는 역할\n",
    "\n",
    "\n",
    "X = np.array([\n",
    "    [1,2]\n",
    "    ,[3,4]\n",
    "])\n",
    "W = np.array([\n",
    "    [1,1]\n",
    "    ,[2,2]\n",
    "])\n",
    "\n",
    "# 점곱\n",
    "# 주어진 데이터(x)를 가중치(W)로 선형변환 한 것이다.\n",
    "\n",
    "dot_prod=np.dot(X,W)\n",
    "print('행열 곱 :', dot_prod)\n",
    "\n",
    "\n",
    "\n"
   ]
  },
  {
   "cell_type": "code",
   "execution_count": null,
   "metadata": {},
   "outputs": [
    {
     "name": "stdout",
     "output_type": "stream",
     "text": [
      "(3,)\n",
      "(3,)\n",
      "32\n",
      "32\n"
     ]
    }
   ],
   "source": [
    "# 전치 행렬 : transpose\n",
    "# X,X.T, X.transpose()\n",
    "a=np.array([1,2,3])\n",
    "print(a.shape)\n",
    "b=np.array([4,5,6])\n",
    "print(b.shape)\n",
    "\n",
    "print(np.dot(a.T,b))\n",
    "print(np.dot(a,b)) # numpy에서 자동 transpose해준다 \n",
    "\n"
   ]
  },
  {
   "cell_type": "code",
   "execution_count": null,
   "metadata": {},
   "outputs": [
    {
     "name": "stdout",
     "output_type": "stream",
     "text": [
      "(2, 3)\n",
      "(3,)\n",
      "[32 77]\n"
     ]
    }
   ],
   "source": [
    "a=np.array([ # 2x3\n",
    "    [1,2,3]\n",
    "    ,[4,5,6]\n",
    "])\n",
    "print(a.shape)\n",
    "b=np.array([4,5,6]) #3x1\n",
    "print(b.shape)\n",
    "\n",
    "# print(np.dot(a.T,b)) => 3x2로 바뀜 error\n",
    "print(np.dot(a,b)) # numpy에서 자동 transpose해준다 "
   ]
  },
  {
   "cell_type": "code",
   "execution_count": null,
   "metadata": {},
   "outputs": [],
   "source": [
    "# 역행렬\n",
    "# 역행렬 존재하는 조건\n",
    "# 1. 정사각 행렬(Square Matrix) (n X n)\n",
    "# 2. 행렬식이 0이 아니어야 한다\n",
    "#    행렬식이 0이면, 역행렬이 존재하지 않고, 이러한 행렬을 특이행렬(Singular Matrix)\n",
    "# 행렬식 : 정사각 행렬의 스칼라(단일값)값을 의미한다. \n",
    "# 특정 행렬(데이터)이 선형변환에서 공간을 얼마나 변형시키는지를 나타내는 값\n"
   ]
  }
 ],
 "metadata": {
  "kernelspec": {
   "display_name": "pyml",
   "language": "python",
   "name": "python3"
  },
  "language_info": {
   "codemirror_mode": {
    "name": "ipython",
    "version": 3
   },
   "file_extension": ".py",
   "mimetype": "text/x-python",
   "name": "python",
   "nbconvert_exporter": "python",
   "pygments_lexer": "ipython3",
   "version": "3.10.16"
  }
 },
 "nbformat": 4,
 "nbformat_minor": 2
}
