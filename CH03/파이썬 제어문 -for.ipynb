{
 "cells": [
  {
   "cell_type": "code",
   "execution_count": 1,
   "metadata": {},
   "outputs": [
    {
     "name": "stdout",
     "output_type": "stream",
     "text": [
      "1번 학생 합격\n",
      "2번 학생 불합격\n",
      "3번 학생 합격\n",
      "4번 학생 불합격\n",
      "5번 학생 합격\n"
     ]
    }
   ],
   "source": [
    "\n",
    "marks = [90,25,67,45,80] # 점수\n",
    "\n",
    "number = 0 # 학생 번호\n",
    "\n",
    "for mark in marks :\n",
    "    number = number +1\n",
    "    if mark >=60:\n",
    "        print(f'{number}번 학생 합격')\n",
    "    else:\n",
    "        print(f'{number}번 학생 불합격')"
   ]
  },
  {
   "cell_type": "code",
   "execution_count": 3,
   "metadata": {},
   "outputs": [
    {
     "name": "stdout",
     "output_type": "stream",
     "text": [
      "1번 학생 합격\n",
      "3번 학생 합격\n",
      "5번 학생 합격\n"
     ]
    }
   ],
   "source": [
    "# 요건\n",
    "# 5명 학생의 점수가 60점 이상인 경우 합격\n",
    "# 미달(<60)인 경우 출력 안한다\n",
    "marks = [90,25,67,45,80]\n",
    "\n",
    "number=0\n",
    "\n",
    "for mark in marks:\n",
    "    number += 1\n",
    "    if mark < 60 : continue\n",
    "    print(f'{number}번 학생 합격')"
   ]
  },
  {
   "cell_type": "code",
   "execution_count": null,
   "metadata": {},
   "outputs": [
    {
     "data": {
      "text/plain": [
       "range(0, 5)"
      ]
     },
     "execution_count": 4,
     "metadata": {},
     "output_type": "execute_result"
    }
   ],
   "source": [
    "# 자바의 기본 for문이 파이썬에 없다\n",
    "# 몇번 반복이 안된다\n",
    "# for var in iterable: => iterable 길이가 반복 횟수\n",
    "# 리스트 생성 하는 함수 : range(길이)\n",
    "# range (start, stop, step)\n",
    "# 디폴트 처리 => 시작값 : 0, 단계값 :1 , // 끝값은 처리가 안되기 때문에 반드시 기입해야됨.\n",
    "range(5) # range(0,5,1) => [0,1,2,3,4]의 리스트가 만들어짐"
   ]
  },
  {
   "cell_type": "code",
   "execution_count": 7,
   "metadata": {},
   "outputs": [
    {
     "name": "stdout",
     "output_type": "stream",
     "text": [
      "2 3 4 "
     ]
    }
   ],
   "source": [
    "nums = range(2,5,1)\n",
    "for num in nums:\n",
    "    print(num, end =' ') # end parameter 세로 방향으로 return"
   ]
  },
  {
   "cell_type": "code",
   "execution_count": 8,
   "metadata": {},
   "outputs": [
    {
     "name": "stdout",
     "output_type": "stream",
     "text": [
      "1 2 3 4 5 6 7 8 9 10 "
     ]
    }
   ],
   "source": [
    "# 1부터 10번 반복\n",
    "for num in range(1, 11):\n",
    "    print(num, end = ' ')"
   ]
  },
  {
   "cell_type": "code",
   "execution_count": 9,
   "metadata": {},
   "outputs": [
    {
     "name": "stdout",
     "output_type": "stream",
     "text": [
      "1번 학생 합격\n",
      "3번 학생 합격\n",
      "5번 학생 합격\n",
      "반복 종료\n"
     ]
    }
   ],
   "source": [
    "# 요건\n",
    "# 5명 학생의 점수가 60점 이상인 경우 합격\n",
    "# 미달(<60)인 경우 출력 안한다\n",
    "marks = [90,25,67,45,80]\n",
    "\n",
    "for num in range(len(marks)):\n",
    "    if marks[num] <60 : continue\n",
    "    print(f'{num+1}번 학생 합격')\n",
    "else :\n",
    "    print('반복 종료') \n",
    "    "
   ]
  },
  {
   "cell_type": "code",
   "execution_count": 12,
   "metadata": {},
   "outputs": [
    {
     "name": "stdout",
     "output_type": "stream",
     "text": [
      "2 4 6 8 10 12 14 16 18 \n",
      "3 6 9 12 15 18 21 24 27 \n",
      "4 8 12 16 20 24 28 32 36 \n",
      "5 10 15 20 25 30 35 40 45 \n",
      "6 12 18 24 30 36 42 48 54 \n",
      "7 14 21 28 35 42 49 56 63 \n",
      "8 16 24 32 40 48 56 64 72 \n",
      "9 18 27 36 45 54 63 72 81 \n"
     ]
    }
   ],
   "source": [
    "# 중첩 for\n",
    "# 구구단 출력\n",
    "for i in range(2,10): # 2단부터 9단까지\n",
    "    for j in range(1,10): # 1부터 9까지 곱하는 값\n",
    "        print(i*j, end=' ')\n",
    "    print() # 줄바꿈"
   ]
  },
  {
   "cell_type": "code",
   "execution_count": 21,
   "metadata": {},
   "outputs": [
    {
     "name": "stdout",
     "output_type": "stream",
     "text": [
      "1\n",
      "2\n",
      "1 2 1 , 2 , "
     ]
    }
   ],
   "source": [
    "# 1부터 10번 반복\n",
    "for num in range(1, 3):\n",
    "    print(num, end = '\\n') # \\n이 default 값\n",
    "\n",
    "for num in range(1, 3):\n",
    "    print(num, end = ' ') # \\n이 default 값\n",
    "    \n",
    "for num in range(1, 3):\n",
    "    print(num, end = ' , ') # \\n이 default 값"
   ]
  },
  {
   "cell_type": "code",
   "execution_count": 22,
   "metadata": {},
   "outputs": [
    {
     "name": "stdout",
     "output_type": "stream",
     "text": [
      "[3, 6, 9, 12]\n"
     ]
    }
   ],
   "source": [
    "# 리스트에 내포된 for문\n",
    "a = [1,2,3,4]\n",
    "result = []\n",
    "\n",
    "for num in a:\n",
    "    result.append(num * 3)\n",
    "    \n",
    "print(result)"
   ]
  },
  {
   "cell_type": "code",
   "execution_count": 23,
   "metadata": {},
   "outputs": [
    {
     "name": "stdout",
     "output_type": "stream",
     "text": [
      "[3, 6, 9, 12]\n"
     ]
    }
   ],
   "source": [
    "a = [1,2,3,4]   \n",
    "result = [num * 3 for num in a]\n",
    "print(result)"
   ]
  },
  {
   "cell_type": "code",
   "execution_count": 25,
   "metadata": {},
   "outputs": [
    {
     "name": "stdout",
     "output_type": "stream",
     "text": [
      "[6, 12]\n"
     ]
    }
   ],
   "source": [
    "# 위 코드에 짝수만 3을 곱하는 코드\n",
    "a = [1,2,3,4]\n",
    "result = [num * 3 for num in a if num %2 == 0]\n",
    "print(result)"
   ]
  },
  {
   "cell_type": "code",
   "execution_count": 31,
   "metadata": {},
   "outputs": [
    {
     "name": "stdout",
     "output_type": "stream",
     "text": [
      "['None', '짝수', 'None', '짝수']\n"
     ]
    }
   ],
   "source": [
    "# 짝수, 홀수 출력 \n",
    "a = [1,2,3,4]\n",
    "result = ['짝수' if num %2 == 0 else 'None' for num in a] # if가 for문 앞으로 갔을때는 반드시 else를 써서 none값이라도 넣어줘야한다 그렇지 않을시 error다\n",
    "print(result)"
   ]
  },
  {
   "cell_type": "code",
   "execution_count": 32,
   "metadata": {},
   "outputs": [
    {
     "name": "stdout",
     "output_type": "stream",
     "text": [
      "['홀수', '짝수', '홀수', '짝수']\n"
     ]
    }
   ],
   "source": [
    "# 짝수, 홀수 출력 \n",
    "a = [1,2,3,4]\n",
    "result = ['짝수' if num %2 == 0 else '홀수' for num in a] # if가 for문 앞으로 갔을때는 반드시 else를 써서 none값이라도 넣어줘야한다 그렇지 않을시 error다\n",
    "print(result)"
   ]
  },
  {
   "cell_type": "code",
   "execution_count": 34,
   "metadata": {},
   "outputs": [
    {
     "name": "stdout",
     "output_type": "stream",
     "text": [
      "[2, 1, 1, 2, 2]\n"
     ]
    }
   ],
   "source": [
    "# 데이터를 숫자로 바꾸기 : 벡터라이저\n",
    "sexs = ['여','남','남','여','여']\n",
    "result = [1 if sex == '남' else 2 for sex in sexs ]\n",
    "print(result)"
   ]
  },
  {
   "cell_type": "code",
   "execution_count": null,
   "metadata": {},
   "outputs": [],
   "source": [
    "# 기본 구문 : [식  if else for var in iterable if]\n",
    "# 변형 구문 : [함수 for var in iterable if]"
   ]
  },
  {
   "cell_type": "code",
   "execution_count": null,
   "metadata": {},
   "outputs": [],
   "source": []
  },
  {
   "cell_type": "code",
   "execution_count": null,
   "metadata": {},
   "outputs": [],
   "source": []
  },
  {
   "cell_type": "code",
   "execution_count": null,
   "metadata": {},
   "outputs": [],
   "source": []
  },
  {
   "cell_type": "code",
   "execution_count": null,
   "metadata": {},
   "outputs": [],
   "source": []
  },
  {
   "cell_type": "code",
   "execution_count": null,
   "metadata": {},
   "outputs": [],
   "source": []
  },
  {
   "cell_type": "code",
   "execution_count": null,
   "metadata": {},
   "outputs": [],
   "source": []
  }
 ],
 "metadata": {
  "kernelspec": {
   "display_name": "firstenv",
   "language": "python",
   "name": "python3"
  },
  "language_info": {
   "codemirror_mode": {
    "name": "ipython",
    "version": 3
   },
   "file_extension": ".py",
   "mimetype": "text/x-python",
   "name": "python",
   "nbconvert_exporter": "python",
   "pygments_lexer": "ipython3",
   "version": "3.10.16"
  }
 },
 "nbformat": 4,
 "nbformat_minor": 2
}
