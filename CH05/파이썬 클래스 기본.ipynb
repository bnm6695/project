{
 "cells": [
  {
   "cell_type": "code",
   "execution_count": 8,
   "metadata": {},
   "outputs": [],
   "source": [
    "class Programmer: # 아무것도 없다\n",
    "    pass"
   ]
  },
  {
   "cell_type": "code",
   "execution_count": 9,
   "metadata": {},
   "outputs": [
    {
     "name": "stdout",
     "output_type": "stream",
     "text": [
      "1609553174992 1609553166592\n"
     ]
    }
   ],
   "source": [
    "kim = Programmer()\n",
    "park = Programmer()\n",
    "print(id(kim), id(park))  # id() : object 주소 반환\n"
   ]
  },
  {
   "cell_type": "code",
   "execution_count": 10,
   "metadata": {},
   "outputs": [],
   "source": [
    "# # 생성된 object에 대입될때 변수가 생김 => 동적 할당.\n",
    "# kim.name = 'hong' \n",
    "# park.name = 'park'\n",
    "# print(kim.name) \n",
    "# print(park.name)"
   ]
  },
  {
   "cell_type": "code",
   "execution_count": 11,
   "metadata": {},
   "outputs": [],
   "source": [
    "# Service class 생성\n",
    "# 정보 공유 Service를 하는 클래스 선언\n",
    "# 클래스 변수 : 오브젝트들이 공유하기 위한 목적\n",
    "# 클래스는 부품이고 조립해서 사용한다.\n",
    "class Service:\n",
    "    secret = '영구는 외계인이다'  # self가  없다 => class 변수\n",
    "       "
   ]
  },
  {
   "cell_type": "code",
   "execution_count": 16,
   "metadata": {},
   "outputs": [],
   "source": [
    "# object 생성\n",
    "pey = Service()\n",
    "kim = Service()"
   ]
  },
  {
   "cell_type": "code",
   "execution_count": null,
   "metadata": {},
   "outputs": [
    {
     "name": "stdout",
     "output_type": "stream",
     "text": [
      "영구는 외계인이다\n",
      "영구는 외계인이다\n",
      "영구는 외계인이다\n"
     ]
    }
   ],
   "source": [
    "# 레퍼런스변수 접근 // 자바에서는 pey.getSecret()으로 접근했었음\n",
    "print(pey.secret) \n",
    "print(kim.secret)\n",
    "# 일반적으로 접근할때 사용\n",
    "print(Service.secret) "
   ]
  },
  {
   "cell_type": "code",
   "execution_count": null,
   "metadata": {},
   "outputs": [
    {
     "name": "stdout",
     "output_type": "stream",
     "text": [
      "영구는 도깨비다\n",
      "영구는 도깨비다\n",
      "영구는 도깨비다\n"
     ]
    }
   ],
   "source": [
    "# secret 클래스의 변수 => 직접 get/set 된다 => attribute 할당하다\n",
    "Service.secret = '영구는 도깨비다' \n",
    "print(pey.secret)\n",
    "print(kim.secret)\n",
    "print(Service.secret)\n"
   ]
  },
  {
   "cell_type": "code",
   "execution_count": null,
   "metadata": {},
   "outputs": [],
   "source": [
    "#메소드\n",
    "class Service:\n",
    "    secret = '영구는 외계인이다.'\n",
    "    \n",
    "    def sum(a,b): # 두 정수를 받아서 더하기\n",
    "        result = a+b\n",
    "        return f'클래스 메소드의 결과 {a} + {b} = {result} 입니다'\n",
    "    \n",
    "    # 오브젝트의 메소드\n",
    "    def sum_(self, a,b) : # 두 정수를 받아서 더하기\n",
    "        result = a+b\n",
    "        return f'오브젝트 메소드의 결과 {a} + {b} = {result} 입니다'"
   ]
  },
  {
   "cell_type": "code",
   "execution_count": null,
   "metadata": {},
   "outputs": [
    {
     "name": "stdout",
     "output_type": "stream",
     "text": [
      "오브젝트 메소드의 결과 1 + 1 = 2입니다\n",
      "클래스 메소드의 결과 1 + 1 = 2입니다\n",
      "오브젝트 메소드의 결과 1 + 1 = 2입니다\n"
     ]
    }
   ],
   "source": [
    "pey = Service()\n",
    "#def sum_(self, a,b)\n",
    "print(pey.sum_(1,1)) # object method\n",
    "# print(pey.sum(1,1)) => Error pey는 self값을 가지고 있어 3개의 argument가 2개의 공간안에 집어 넣을수 없다. \n",
    "#def sum(a,b)\n",
    "print(Service.sum(1,1)) # class method => self를 가지고 있지않기 때문에 2개(a,b)공간에 2개(1,1)의 argument가 들어갈수있다.\n",
    "print(Service.sum_(pey,1,1))"
   ]
  },
  {
   "cell_type": "code",
   "execution_count": 36,
   "metadata": {},
   "outputs": [],
   "source": [
    "# name : 고객이름 저장 멤버 변수(메소드 안에서)  선언 사용\n",
    "class Service:\n",
    "    secret ='영구는 외계인이다'  \n",
    "    \n",
    "    # 메소드에 self를 주는 이유는 오브젝트에 접근\n",
    "    # name : 받아서 오브젝트에 대입\n",
    "    def setName(self, name):\n",
    "        self.name = name\n",
    "    \n",
    "    # 님 1 + 1 = 2입니다\n",
    "    def sum(self,a,b):  # self가 필요하기때문에 코드에 self를 넣어준다.\n",
    "        result = a+b\n",
    "        return f'{self.name}님 {a} + {b} = {result}입니다'\n",
    "        "
   ]
  },
  {
   "cell_type": "code",
   "execution_count": 40,
   "metadata": {},
   "outputs": [
    {
     "name": "stdout",
     "output_type": "stream",
     "text": [
      "고길동\n"
     ]
    }
   ],
   "source": [
    "pey = Service()\n",
    "# setName 호출 : 호출 안하면 self.name 실행이 안된다, \n",
    "pey.setName('홍길동') # self.name 생성\n",
    "# sum() 호출\n",
    "# def sum(self,a,b):\n",
    "# name은 public 하다\n",
    "pey.name = '고길동' # set\n",
    "print(pey.name) # get\n",
    "# pey.sum(1,1)\n"
   ]
  },
  {
   "cell_type": "code",
   "execution_count": null,
   "metadata": {},
   "outputs": [
    {
     "name": "stdout",
     "output_type": "stream",
     "text": [
      "김철수\n",
      "박응용\n"
     ]
    }
   ],
   "source": [
    "# 멤버 변수를 동적으로 생성\n",
    "kim = Service()\n",
    "# Kim.setName('김철수') 실행 안하면 name이 없다.\n",
    "kim.name = '김철수'  # set\n",
    "print(kim.name)     # get => print\n",
    "park = Service()\n",
    "park.name = '박응용' # set\n",
    "print(park.name)    # get => print"
   ]
  },
  {
   "cell_type": "code",
   "execution_count": null,
   "metadata": {},
   "outputs": [
    {
     "ename": "AttributeError",
     "evalue": "'Service' object has no attribute 'name'",
     "output_type": "error",
     "traceback": [
      "\u001b[1;31m---------------------------------------------------------------------------\u001b[0m",
      "\u001b[1;31mAttributeError\u001b[0m                            Traceback (most recent call last)",
      "Cell \u001b[1;32mIn[42], line 3\u001b[0m\n\u001b[0;32m      1\u001b[0m hong \u001b[38;5;241m=\u001b[39m Service()\n\u001b[1;32m----> 3\u001b[0m \u001b[43mhong\u001b[49m\u001b[38;5;241;43m.\u001b[39;49m\u001b[43msum\u001b[49m\u001b[43m(\u001b[49m\u001b[38;5;241;43m1\u001b[39;49m\u001b[43m,\u001b[49m\u001b[38;5;241;43m2\u001b[39;49m\u001b[43m)\u001b[49m\n",
      "Cell \u001b[1;32mIn[36], line 13\u001b[0m, in \u001b[0;36mService.sum\u001b[1;34m(self, a, b)\u001b[0m\n\u001b[0;32m     11\u001b[0m \u001b[38;5;28;01mdef\u001b[39;00m \u001b[38;5;21msum\u001b[39m(\u001b[38;5;28mself\u001b[39m,a,b):  \u001b[38;5;66;03m# self가 필요하기때문에 코드에 self를 넣어준다.\u001b[39;00m\n\u001b[0;32m     12\u001b[0m     result \u001b[38;5;241m=\u001b[39m a\u001b[38;5;241m+\u001b[39mb\n\u001b[1;32m---> 13\u001b[0m     \u001b[38;5;28;01mreturn\u001b[39;00m \u001b[38;5;124mf\u001b[39m\u001b[38;5;124m'\u001b[39m\u001b[38;5;132;01m{\u001b[39;00m\u001b[38;5;28mself\u001b[39m\u001b[38;5;241m.\u001b[39mname\u001b[38;5;132;01m}\u001b[39;00m\u001b[38;5;124m님 \u001b[39m\u001b[38;5;132;01m{\u001b[39;00ma\u001b[38;5;132;01m}\u001b[39;00m\u001b[38;5;124m + \u001b[39m\u001b[38;5;132;01m{\u001b[39;00mb\u001b[38;5;132;01m}\u001b[39;00m\u001b[38;5;124m = \u001b[39m\u001b[38;5;132;01m{\u001b[39;00mresult\u001b[38;5;132;01m}\u001b[39;00m\u001b[38;5;124m입니다\u001b[39m\u001b[38;5;124m'\u001b[39m\n",
      "\u001b[1;31mAttributeError\u001b[0m: 'Service' object has no attribute 'name'"
     ]
    }
   ],
   "source": [
    "hong = Service()\n",
    "# Error : sum하기 전에 반드시 setName을 반드시 실행해야 된다.\n",
    "# name 멤버 변수를 생성해야 하기 때문이다\n",
    "# object를 만들 때 name이 생성되게 만들어보자 => 생성자 \n",
    "hong.sum(1,2)"
   ]
  },
  {
   "cell_type": "code",
   "execution_count": 47,
   "metadata": {},
   "outputs": [],
   "source": [
    "# 생성자 : __init__() => name 변수 생성, 초기화\n",
    "class Service :\n",
    "    secret = '영구는 외계인이다'\n",
    "    \n",
    "    def __init__(self, name) : # 메소드다\n",
    "        self.name = name # name 변수 생성, 초기화\n",
    "        \n",
    "    def sum(self,a,b):\n",
    "        result = a + b\n",
    "        return f'{self.name}님 {a} + {b} = {result}입니다'"
   ]
  },
  {
   "cell_type": "code",
   "execution_count": 49,
   "metadata": {},
   "outputs": [],
   "source": [
    "hong = Service('홍길동')\n"
   ]
  },
  {
   "cell_type": "code",
   "execution_count": 50,
   "metadata": {},
   "outputs": [
    {
     "name": "stdout",
     "output_type": "stream",
     "text": [
      "홍길동\n"
     ]
    }
   ],
   "source": [
    "print(hong.name)"
   ]
  },
  {
   "cell_type": "code",
   "execution_count": 51,
   "metadata": {},
   "outputs": [
    {
     "name": "stdout",
     "output_type": "stream",
     "text": [
      "홍길동님 3 + 4 = 7입니다\n"
     ]
    }
   ],
   "source": [
    "# sum(self, a, b)\n",
    "print(hong.sum(3,4))"
   ]
  },
  {
   "cell_type": "code",
   "execution_count": null,
   "metadata": {},
   "outputs": [],
   "source": []
  },
  {
   "cell_type": "code",
   "execution_count": null,
   "metadata": {},
   "outputs": [],
   "source": []
  },
  {
   "cell_type": "code",
   "execution_count": null,
   "metadata": {},
   "outputs": [],
   "source": []
  }
 ],
 "metadata": {
  "kernelspec": {
   "display_name": "firstenv",
   "language": "python",
   "name": "python3"
  },
  "language_info": {
   "codemirror_mode": {
    "name": "ipython",
    "version": 3
   },
   "file_extension": ".py",
   "mimetype": "text/x-python",
   "name": "python",
   "nbconvert_exporter": "python",
   "pygments_lexer": "ipython3",
   "version": "3.10.16"
  }
 },
 "nbformat": 4,
 "nbformat_minor": 2
}
