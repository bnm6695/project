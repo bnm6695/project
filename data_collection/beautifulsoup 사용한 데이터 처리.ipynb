{
 "cells": [
  {
   "cell_type": "code",
   "execution_count": null,
   "metadata": {},
   "outputs": [
    {
     "name": "stdout",
     "output_type": "stream",
     "text": [
      "\n",
      "<html>\n",
      "    <head><title>테스트 페이지</title></head>\n",
      "    <body>\n",
      "        <h1>안녕하세요!</h1>\n",
      "        <p class=\"content\">이것은 예제 문장입니다.</p>\n",
      "        <a href=\"https://example.com\">예제 링크</a>\n",
      "    </body>\n",
      "</html>\n",
      "\n",
      "title :  테스트 페이지\n",
      "H1 태그 :  안녕하세요!\n",
      "P 태그 :  이것은 예제 문장입니다.\n",
      "body :  \n",
      "안녕하세요!\n",
      "이것은 예제 문장입니다.\n",
      "예제 링크\n",
      "\n"
     ]
    }
   ],
   "source": [
    "from bs4 import BeautifulSoup\n",
    "\n",
    "html = \"\"\"\n",
    "<html>\n",
    "    <head><title>테스트 페이지</title></head>\n",
    "    <body>\n",
    "        <h1>안녕하세요!</h1>\n",
    "        <p class=\"content\">이것은 예제 문장입니다.</p>\n",
    "        <a href=\"https://example.com\">예제 링크</a>\n",
    "    </body>\n",
    "</html>\n",
    "\"\"\"\n",
    "print(html)\n",
    "\n",
    "# BeautilfulSoup object 생성\n",
    "# html 문자열을 파싱을 해야 한다 => DOM tree 생성 (select을 할수있게 된다)\n",
    "soup = BeautifulSoup(html,'html.parser')\n",
    "\n",
    "# 태그 선택자\n",
    "\n",
    "title = soup.title.text\n",
    "print('title : ',title)\n",
    "\n",
    "h1 = soup.h1.text\n",
    "print('H1 태그 : ', h1)\n",
    "\n",
    "p = soup.p.text\n",
    "print('P 태그 : ', p)\n",
    "\n",
    "body = soup.body.text\n",
    "print('body : ', body)"
   ]
  },
  {
   "cell_type": "code",
   "execution_count": 24,
   "metadata": {},
   "outputs": [
    {
     "name": "stdout",
     "output_type": "stream",
     "text": [
      "['https://example.com/page1', 'https://example.com/page2']\n"
     ]
    }
   ],
   "source": [
    "# 4. 링크(a tag), 이미지 크롤링\n",
    "html = \"\"\"\n",
    "<a href=\"https://example.com/page1\">페이지 1</a>\n",
    "<a href=\"https://example.com/page2\">페이지 2</a>\n",
    "\"\"\"\n",
    "soup = BeautifulSoup(html, 'html.parser')\n",
    "\n",
    "links = [a['href'] for a in soup.find_all('a')]\n",
    "print(links)"
   ]
  },
  {
   "cell_type": "code",
   "execution_count": 28,
   "metadata": {},
   "outputs": [
    {
     "name": "stdout",
     "output_type": "stream",
     "text": [
      "['https://example.com/image1.jpg', 'https://example.com/image2.jpg']\n"
     ]
    }
   ],
   "source": [
    "# 이미지와 위치 추출 => 다운로드\n",
    "html = \"\"\"\n",
    "<img src=\"https://example.com/image1.jpg\" alt=\"이미지 1\">\n",
    "<img src=\"https://example.com/image2.jpg\" alt=\"이미지 2\">\n",
    "\"\"\"\n",
    "\n",
    "\n",
    "soup = BeautifulSoup(html,'html.parser')\n",
    "\n",
    "images_src = [img['src'] for img in soup.find_all('img')]\n",
    "print(images_src)\n",
    "#다운로드는 별도로 진행 필요"
   ]
  },
  {
   "cell_type": "code",
   "execution_count": 32,
   "metadata": {},
   "outputs": [
    {
     "name": "stdout",
     "output_type": "stream",
     "text": [
      "['이름', '나이']\n",
      "['김철수', '25']\n",
      "['이영희', '30']\n"
     ]
    }
   ],
   "source": [
    "html = \"\"\"\n",
    "<table>\n",
    "    <tr>\n",
    "        <th>이름</th><th>나이</th>\n",
    "    </tr>\n",
    "    <tr>\n",
    "        <td>김철수</td><td>25</td>\n",
    "    </tr>\n",
    "    <tr>\n",
    "        <td>이영희</td><td>30</td>\n",
    "    </tr>\n",
    "</table>\n",
    "\"\"\"\n",
    "\n",
    "soup = BeautifulSoup(html, 'html.parser')\n",
    "\n",
    "# 행 추출\n",
    "rows = soup.find_all('tr')\n",
    "# print(rows)\n",
    "for row in rows: # 한 행씩 가져다가 처리 \n",
    "    cols = row.find_all(['th','td'])\n",
    "    print([col.text for col in cols])"
   ]
  },
  {
   "cell_type": "markdown",
   "metadata": {},
   "source": [
    "### 메소드 정리\n",
    "#### 1. find, find_all : 특정 태그로 찾기 \n",
    "- find(tag) : 첫번째로 일치하는 태그 오브젝트 반환\n",
    "- find_all(tag, class_,limt=) : 일치하는 모든 태그 오브젝트를 리스트로 반환\n",
    "- find_parent() : 부모 태그 오브젝트 반환\n",
    "- find_parents() : 모든 조상 태그 오브젝트 리스트 반환\n",
    "- find_previous_sibling() : 이전 형제 태그 오브젝트 반환 \n",
    "- find_next_sibling() : 다음 형제 태그 오브젝트 반환\n",
    "#### 2. select,select_one : CSS selector로 찾기 \n",
    "- select_one() : CSS selector 사용해서 특정 태그 오브젝트 반환\n",
    "- select() : CSS selector 사용해서 모든 태그 오브젝트 리스트 반환\n",
    "- 속성 (Attribute)\n",
    "    - tag.text :텍스트 추출\n",
    "    - tag['속성명'] : 해당 속성의 값을 추출\n",
    "    - tag['속성명'] = 값 : 값 변경\n",
    "- 태그 제어\n",
    "    - tag.decompose() : 태그 제거\n",
    "    - tag.extract() : 태그 제거 후 반환\n",
    "    - soup.new_tag() : soup에 오브젝트에 새로운 태그 생성     "
   ]
  },
  {
   "cell_type": "code",
   "execution_count": 36,
   "metadata": {},
   "outputs": [
    {
     "name": "stdout",
     "output_type": "stream",
     "text": [
      "<body>\n",
      "<h1>안녕하세요!</h1>\n",
      "<p class=\"content\">이것은 예제 문장입니다.</p>\n",
      "</body>\n",
      "[<body>\n",
      "<h1>안녕하세요!</h1>\n",
      "<p class=\"content\">이것은 예제 문장입니다.</p>\n",
      "</body>, <html>\n",
      "<head><title>테스트 페이지</title></head>\n",
      "<body>\n",
      "<h1>안녕하세요!</h1>\n",
      "<p class=\"content\">이것은 예제 문장입니다.</p>\n",
      "</body>\n",
      "</html>, \n",
      "<html>\n",
      "<head><title>테스트 페이지</title></head>\n",
      "<body>\n",
      "<h1>안녕하세요!</h1>\n",
      "<p class=\"content\">이것은 예제 문장입니다.</p>\n",
      "</body>\n",
      "</html>\n",
      "]\n",
      "[<body>\n",
      "<h1>안녕하세요!</h1>\n",
      "<p class=\"content\">이것은 예제 문장입니다.</p>\n",
      "</body>, <html>\n",
      "<head><title>테스트 페이지</title></head>\n",
      "<body>\n",
      "<h1>안녕하세요!</h1>\n",
      "<p class=\"content\">이것은 예제 문장입니다.</p>\n",
      "</body>\n",
      "</html>, \n",
      "<html>\n",
      "<head><title>테스트 페이지</title></head>\n",
      "<body>\n",
      "<h1>안녕하세요!</h1>\n",
      "<p class=\"content\">이것은 예제 문장입니다.</p>\n",
      "</body>\n",
      "</html>\n",
      "]\n",
      "[<body>\n",
      "<h1>안녕하세요!</h1>\n",
      "<p class=\"content\">이것은 예제 문장입니다.</p>\n",
      "</body>, <html>\n",
      "<head><title>테스트 페이지</title></head>\n",
      "<body>\n",
      "<h1>안녕하세요!</h1>\n",
      "<p class=\"content\">이것은 예제 문장입니다.</p>\n",
      "</body>\n",
      "</html>, \n",
      "<html>\n",
      "<head><title>테스트 페이지</title></head>\n",
      "<body>\n",
      "<h1>안녕하세요!</h1>\n",
      "<p class=\"content\">이것은 예제 문장입니다.</p>\n",
      "</body>\n",
      "</html>\n",
      "]\n"
     ]
    }
   ],
   "source": [
    "html = \"\"\"\n",
    "<html>\n",
    "    <head><title>테스트 페이지</title></head>\n",
    "    <body>\n",
    "        <h1>안녕하세요!</h1>\n",
    "        <p class=\"content\">이것은 예제 문장입니다.</p>\n",
    "    </body>\n",
    "</html>\n",
    "\"\"\"\n",
    "soup = BeautifulSoup(html,'html.parser')\n",
    "\n",
    "# p 태그 먼저 찾는다\n",
    "p_tag = soup.find('p')\n",
    "parent_tag = p_tag.find_parent()\n",
    "print(parent_tag)\n",
    "\n",
    "all_parents = p_tag.find_parents()\n",
    "for parent in all_parents:\n",
    "    print(all_parents)\n"
   ]
  },
  {
   "cell_type": "code",
   "execution_count": 38,
   "metadata": {},
   "outputs": [
    {
     "name": "stdout",
     "output_type": "stream",
     "text": [
      "None\n",
      "<h1>안녕하세요!</h1>\n"
     ]
    }
   ],
   "source": [
    "html = \"\"\"\n",
    "<html>\n",
    "    <head><title>테스트 페이지</title></head>\n",
    "    <body>\n",
    "        <h1>안녕하세요!</h1>\n",
    "        <p class=\"content\">이것은 예제 문장입니다.</p>\n",
    "    </body>\n",
    "</html>\n",
    "\"\"\"\n",
    "soup = BeautifulSoup(html,'html.parser')\n",
    "\n",
    "# p 태그 먼저 찾는다\n",
    "p_tag = soup.find('p')\n",
    "\n",
    "# 다음 형제 태그 추출\n",
    "print(p_tag.find_next_sibling())\n",
    "print(p_tag.find_previous_sibling())"
   ]
  },
  {
   "cell_type": "code",
   "execution_count": 45,
   "metadata": {},
   "outputs": [
    {
     "name": "stdout",
     "output_type": "stream",
     "text": [
      "이것은 두 번째 문장입니다.\n",
      "이것은 두 번째 문장입니다.\n"
     ]
    }
   ],
   "source": [
    "html = \"\"\"\n",
    "<html>\n",
    "    <head><title>테스트 페이지</title></head>\n",
    "    <body>\n",
    "        <h1>안녕하세요!</h1>\n",
    "        <p class=\"content1\">이것은 첫 번째 문장입니다.</p>\n",
    "        <p class=\"content2\">이것은 두 번째 문장입니다.</p>\n",
    "    </body>\n",
    "</html>\n",
    "\"\"\"\n",
    "soup = BeautifulSoup(html,'html.parser')\n",
    "\n",
    "# p 태그 먼저 찾는다\n",
    "p_tag = soup.select_one('p.content2')\n",
    "print(p_tag.text)\n",
    "\n",
    "p_tags = soup.select('p')\n",
    "print(p_tags[1].text)"
   ]
  },
  {
   "cell_type": "code",
   "execution_count": null,
   "metadata": {},
   "outputs": [],
   "source": [
    "import requests\n",
    "from bs4 import BeautifulSoup\n",
    "\n",
    "\n",
    "url = 'https://finance.naver.com/item/main.naver?code=068270'\n",
    "\n",
    "\n",
    "headers = {\n",
    "    \"User-Agent\": \"Mozilla/5.0 (Windows NT 10.0; Win64; x64) AppleWebKit/537.36 (KHTML, like Gecko) Chrome/122.0.0.0 Safari/537.36\"\n",
    "}\n",
    "response = requests.get(url, headers=headers)\n",
    "\n",
    "\n",
    "soup = BeautifulSoup(response.text, 'html.parser')\n",
    "\n",
    "\n",
    "posts = soup.select('#content')\n",
    "print(posts)"
   ]
  },
  {
   "cell_type": "code",
   "execution_count": null,
   "metadata": {},
   "outputs": [],
   "source": []
  }
 ],
 "metadata": {
  "kernelspec": {
   "display_name": "firstenv",
   "language": "python",
   "name": "python3"
  },
  "language_info": {
   "codemirror_mode": {
    "name": "ipython",
    "version": 3
   },
   "file_extension": ".py",
   "mimetype": "text/x-python",
   "name": "python",
   "nbconvert_exporter": "python",
   "pygments_lexer": "ipython3",
   "version": "3.10.16"
  }
 },
 "nbformat": 4,
 "nbformat_minor": 2
}
