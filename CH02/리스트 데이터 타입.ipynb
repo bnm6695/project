{
 "cells": [
  {
   "cell_type": "markdown",
   "metadata": {},
   "source": [
    "### 리스트 데이터 타입\n",
    "1. 여러개 저장 (아무거나)\n",
    "2. 하나로 묶는다\n",
    "\n",
    "##### 인덱싱\n",
    "- 단일값 처리"
   ]
  },
  {
   "cell_type": "code",
   "execution_count": null,
   "metadata": {},
   "outputs": [
    {
     "name": "stdout",
     "output_type": "stream",
     "text": [
      "[1, 2, 3]\n"
     ]
    }
   ],
   "source": [
    "a = [1,2,3]\n",
    "# print(문자변경출력) 안하고 a 출력 : 타입이 보인다.\n",
    "\n",
    "print(a)"
   ]
  },
  {
   "cell_type": "code",
   "execution_count": null,
   "metadata": {},
   "outputs": [
    {
     "name": "stdout",
     "output_type": "stream",
     "text": [
      "1\n",
      "3\n",
      "3\n"
     ]
    }
   ],
   "source": [
    "# 리스트에서 1 값을 추출\n",
    "print(a[0])\n",
    "# 3 추출\n",
    "print(a[2])"
   ]
  },
  {
   "cell_type": "code",
   "execution_count": 3,
   "metadata": {},
   "outputs": [
    {
     "data": {
      "text/plain": [
       "[1, 2, 3, ['a', 'b', 'c']]"
      ]
     },
     "execution_count": 3,
     "metadata": {},
     "output_type": "execute_result"
    }
   ],
   "source": [
    "a = [1,2,3,['a','b','c']]\n",
    "a"
   ]
  },
  {
   "cell_type": "code",
   "execution_count": 4,
   "metadata": {},
   "outputs": [
    {
     "name": "stdout",
     "output_type": "stream",
     "text": [
      "['a', 'b', 'c']\n",
      "['a', 'b', 'c']\n",
      "b\n",
      "b\n"
     ]
    }
   ],
   "source": [
    "# [1,2,3,['a','b','c']]\n",
    "print(a[3]) # ['a','b','c']\n",
    "print(a[-1])\n",
    "# b 추출\n",
    "print(a[3][1])\n",
    "print(a[-1][1])"
   ]
  },
  {
   "cell_type": "code",
   "execution_count": 5,
   "metadata": {},
   "outputs": [
    {
     "name": "stdout",
     "output_type": "stream",
     "text": [
      "[1, 2]\n",
      "[1, 2]\n"
     ]
    }
   ],
   "source": [
    "# 슬라이싱 : 여러개 추출(리스트반환), [start : end-1]\n",
    "a = [1,2,3,4,5]\n",
    "# [1,2]\n",
    "print(a[0:2])\n",
    "print(a[:2])\n",
    " "
   ]
  },
  {
   "cell_type": "code",
   "execution_count": 6,
   "metadata": {},
   "outputs": [
    {
     "data": {
      "text/plain": [
       "[1, 2, 3, ['a', 'b', 'c'], 4, 5]"
      ]
     },
     "execution_count": 6,
     "metadata": {},
     "output_type": "execute_result"
    }
   ],
   "source": [
    "# 중첩된 리스트(리스)\n",
    "a =[1,2,3,['a','b','c'],4,5] \n",
    "a"
   ]
  },
  {
   "cell_type": "code",
   "execution_count": 7,
   "metadata": {},
   "outputs": [
    {
     "name": "stdout",
     "output_type": "stream",
     "text": [
      "['a', 'b']\n",
      "['a', 'b']\n"
     ]
    }
   ],
   "source": [
    "# ['a','b']\n",
    "print(a[3][0:2])\n",
    "print(a[3][:2])"
   ]
  },
  {
   "cell_type": "code",
   "execution_count": 8,
   "metadata": {},
   "outputs": [
    {
     "name": "stdout",
     "output_type": "stream",
     "text": [
      "[1, 2, 3, 4, 5, 6]\n"
     ]
    }
   ],
   "source": [
    "# 리스트에서 사용하는 연산자(+, *)\n",
    "# 1. 리스트 + 리스트 : 연산자보다 함수를 사용한다\n",
    "a =[1,2,3]\n",
    "b =[4,5,6] \n",
    "print(a + b) # [1,2,3,4,5,6]"
   ]
  },
  {
   "cell_type": "code",
   "execution_count": 10,
   "metadata": {},
   "outputs": [
    {
     "name": "stdout",
     "output_type": "stream",
     "text": [
      "[1, 2, 3, 1, 2, 3, 1, 2, 3]\n"
     ]
    }
   ],
   "source": [
    "# * 연산자 사용 : 리스트 * 정수\n",
    "a = [1,2,3]\n",
    "print(a*3)"
   ]
  },
  {
   "cell_type": "code",
   "execution_count": 17,
   "metadata": {},
   "outputs": [
    {
     "name": "stdout",
     "output_type": "stream",
     "text": [
      "3\n",
      "<class 'int'>\n",
      "3hi\n"
     ]
    }
   ],
   "source": [
    "# 리스트 연산자 사용시 주의\n",
    "a = [1,2,3,]\n",
    "print(a[2])\n",
    "print(type(a[2]))\n",
    "# print(a[2]+'hi')\n",
    "print(str(a[2])+'hi') # str(a[2]) : 3 => '3'"
   ]
  },
  {
   "cell_type": "code",
   "execution_count": null,
   "metadata": {},
   "outputs": [
    {
     "name": "stdout",
     "output_type": "stream",
     "text": [
      "[1, 2, 4]\n",
      "[1, 'a', 'b', 'c', 4]\n"
     ]
    }
   ],
   "source": [
    "# 리스트 수정 (변경,삭제)\n",
    "# 1. 리스트에서 하나의 값을 변경\n",
    "a = [1,2,3]\n",
    "# 3=> 4 변경\n",
    "a[-1] =4\n",
    "print(a)\n",
    "# 2. 리스트에서 여러개 값을 변경\n",
    "# 2 => ['a','b','c']\n",
    "# 인덱싱  (리스트로 들어옴)\n",
    "# a[1] = ['a','b','c']\n",
    "# print(a)\n",
    "\n",
    "# 슬라이싱 (문자열 하나씩 들어옴)\n",
    "a[1:2] = ['a','b','c']\n",
    "print(a)"
   ]
  },
  {
   "cell_type": "code",
   "execution_count": 26,
   "metadata": {},
   "outputs": [],
   "source": [
    "# 리스트 데이터(요소) 삭제 \n",
    "a[1:3] = []"
   ]
  },
  {
   "cell_type": "code",
   "execution_count": 27,
   "metadata": {},
   "outputs": [
    {
     "data": {
      "text/plain": [
       "[1, 'c', 4]"
      ]
     },
     "execution_count": 27,
     "metadata": {},
     "output_type": "execute_result"
    }
   ],
   "source": [
    "a"
   ]
  },
  {
   "cell_type": "code",
   "execution_count": 29,
   "metadata": {},
   "outputs": [
    {
     "name": "stdout",
     "output_type": "stream",
     "text": [
      "[1, 4]\n"
     ]
    }
   ],
   "source": [
    "# object 삭제 : 함수 => del : 'c' 삭제 코드\n",
    "del a[1]\n",
    "print(a)\n"
   ]
  },
  {
   "cell_type": "markdown",
   "metadata": {},
   "source": [
    "---\n",
    "#### 리스트 관련 메소드\n",
    "---"
   ]
  },
  {
   "cell_type": "code",
   "execution_count": 32,
   "metadata": {},
   "outputs": [
    {
     "name": "stdout",
     "output_type": "stream",
     "text": [
      "[1, 2, 3]\n",
      "[1, 2, 3, 4]\n",
      "[1, 2, 3, 4, [5, 6]]\n"
     ]
    }
   ],
   "source": [
    "# append : 마지막에 추가\n",
    "a = [1,2,3]\n",
    "print(a)\n",
    "a.append(4)\n",
    "print(a)\n",
    "a.append([5,6])\n",
    "print(a)"
   ]
  },
  {
   "cell_type": "code",
   "execution_count": 36,
   "metadata": {},
   "outputs": [
    {
     "name": "stdout",
     "output_type": "stream",
     "text": [
      "None\n",
      "[1, 2, 3, 4]\n",
      "None\n",
      "['a', 'b', 'c']\n"
     ]
    }
   ],
   "source": [
    "# sort : 정렬 \n",
    "a = [1,4,3,2]\n",
    "print(a.sort())  # => return none\n",
    "print(a)\n",
    "a= ['a','c','b']\n",
    "print(a.sort()) \n",
    "print(a)"
   ]
  },
  {
   "cell_type": "code",
   "execution_count": 37,
   "metadata": {},
   "outputs": [
    {
     "name": "stdout",
     "output_type": "stream",
     "text": [
      "None\n",
      "['c', 'b', 'a']\n"
     ]
    }
   ],
   "source": [
    "# reverse : 뒤집기(정렬이 아니다)\n",
    "a = ['a','b','c']\n",
    "print(a.reverse())  \n",
    "print(a)\n"
   ]
  },
  {
   "cell_type": "code",
   "execution_count": 39,
   "metadata": {},
   "outputs": [
    {
     "name": "stdout",
     "output_type": "stream",
     "text": [
      "2\n"
     ]
    }
   ],
   "source": [
    "# index : 리스트안에 있는 특정 값을 찾아 index 반환\n",
    "a = [1,2,3]\n",
    "print(a.index(3)) # 3값의 인덱스 찾아라\n",
    "# print(a.index(6)) # 6값은 없다 => Error "
   ]
  },
  {
   "cell_type": "code",
   "execution_count": 46,
   "metadata": {},
   "outputs": [
    {
     "name": "stdout",
     "output_type": "stream",
     "text": [
      "None\n",
      "[4, 1, 2, 3]\n",
      "None\n",
      "[4, 1, 2, 5, 3]\n"
     ]
    }
   ],
   "source": [
    "# insert : 특정 위치(index)에 삽입, append : 마지막 삽입\n",
    "# insert(위치(인덱스), 삽입할 값)  \n",
    "a = [1,2,3]\n",
    "print(a.insert(0,4)) # [4,1,2,3]\n",
    "print(a)\n",
    "print(a.insert(3,5)) \n",
    "print(a)"
   ]
  },
  {
   "cell_type": "code",
   "execution_count": null,
   "metadata": {},
   "outputs": [
    {
     "name": "stdout",
     "output_type": "stream",
     "text": [
      "None\n",
      "[2, 3, 1, 2, 3]\n",
      "None\n",
      "[2, 3, 2, 3]\n"
     ]
    },
    {
     "ename": "ValueError",
     "evalue": "list.remove(x): x not in list",
     "output_type": "error",
     "traceback": [
      "\u001b[1;31m---------------------------------------------------------------------------\u001b[0m",
      "\u001b[1;31mValueError\u001b[0m                                Traceback (most recent call last)",
      "Cell \u001b[1;32mIn[53], line 7\u001b[0m\n\u001b[0;32m      5\u001b[0m \u001b[38;5;28mprint\u001b[39m(a\u001b[38;5;241m.\u001b[39mremove(\u001b[38;5;241m1\u001b[39m)) \n\u001b[0;32m      6\u001b[0m \u001b[38;5;28mprint\u001b[39m(a) \n\u001b[1;32m----> 7\u001b[0m \u001b[38;5;28mprint\u001b[39m(\u001b[43ma\u001b[49m\u001b[38;5;241;43m.\u001b[39;49m\u001b[43mremove\u001b[49m\u001b[43m(\u001b[49m\u001b[38;5;241;43m1\u001b[39;49m\u001b[43m)\u001b[49m) \n\u001b[0;32m      8\u001b[0m \u001b[38;5;28mprint\u001b[39m(a)\n",
      "\u001b[1;31mValueError\u001b[0m: list.remove(x): x not in list"
     ]
    }
   ],
   "source": [
    "# remove : 값을 찾아서 제거, 왼쪽에서부터 찾아서 제거\n",
    "a = [1,2,3,1,2,3]\n",
    "print(a.remove(1)) # 1 제거\n",
    "print(a) \n",
    "print(a.remove(1)) \n",
    "print(a) \n",
    "# print(a.remove(1)) # Error \n",
    "# print(a) \n"
   ]
  },
  {
   "cell_type": "code",
   "execution_count": 55,
   "metadata": {},
   "outputs": [
    {
     "name": "stdout",
     "output_type": "stream",
     "text": [
      "3\n",
      "[1, 2]\n",
      "2\n",
      "[1]\n"
     ]
    }
   ],
   "source": [
    "# pop : 1. 마지막에서 꺼내고 삭제,\n",
    "#       2. 특정값을 지정해서 꺼내고 삭제\n",
    "# 1.\n",
    "a = [1,2,3]\n",
    "print(a.pop()) #파라미터 없다\n",
    "print(a)\n",
    "# 2.\n",
    "print(a.pop(1)) # 꺼내고 삭제\n",
    "print(a)\n"
   ]
  },
  {
   "cell_type": "code",
   "execution_count": null,
   "metadata": {},
   "outputs": [
    {
     "name": "stdout",
     "output_type": "stream",
     "text": [
      "2\n"
     ]
    }
   ],
   "source": [
    "# count : 특정 값의 개수 세기\n",
    "# count(특정값)\n",
    "a = [1,2,3,1]\n",
    "print(a.count(1)) # 1이 몇개인가?\n"
   ]
  },
  {
   "cell_type": "code",
   "execution_count": null,
   "metadata": {},
   "outputs": [
    {
     "name": "stdout",
     "output_type": "stream",
     "text": [
      "None\n",
      "[1, 2, 3, [4, 5]]\n",
      "None\n",
      "[1, 2, 3, 4, 5]\n"
     ]
    }
   ],
   "source": [
    "# append\n",
    "a = [1,2,3]\n",
    "print(a.append([4,5]))\n",
    "print(a)\n",
    "a =[1,2,3]\n",
    "print(a.extend([4,5]))  # print(a + [4,5])와 같으나 list 양이 많아지면 + 는 가독성이 떨어져 extend를 사용한다. \n",
    "print(a)"
   ]
  },
  {
   "cell_type": "code",
   "execution_count": null,
   "metadata": {},
   "outputs": [],
   "source": []
  }
 ],
 "metadata": {
  "kernelspec": {
   "display_name": "firstenv",
   "language": "python",
   "name": "python3"
  },
  "language_info": {
   "codemirror_mode": {
    "name": "ipython",
    "version": 3
   },
   "file_extension": ".py",
   "mimetype": "text/x-python",
   "name": "python",
   "nbconvert_exporter": "python",
   "pygments_lexer": "ipython3",
   "version": "3.10.16"
  }
 },
 "nbformat": 4,
 "nbformat_minor": 2
}
