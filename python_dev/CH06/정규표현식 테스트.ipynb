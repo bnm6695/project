{
 "cells": [
  {
   "cell_type": "code",
   "execution_count": 41,
   "metadata": {},
   "outputs": [
    {
     "data": {
      "text/plain": [
       "'\\npark 800905-1049118\\nkim 700905-1059119\\n'"
      ]
     },
     "execution_count": 41,
     "metadata": {},
     "output_type": "execute_result"
    }
   ],
   "source": [
    "data ='''\n",
    "park 800905-1049118\n",
    "kim 700905-1059119\n",
    "'''\n",
    "\n",
    "data"
   ]
  },
  {
   "cell_type": "code",
   "execution_count": 22,
   "metadata": {},
   "outputs": [
    {
     "name": "stdout",
     "output_type": "stream",
     "text": [
      "['']\n",
      "['park', '800905', '-', '1049118']\n",
      "['kim', '700905', '-', '1059119']\n",
      "['']\n"
     ]
    }
   ],
   "source": [
    "result = [] # 결과 저장 리스트\n",
    "# 문장 분리 : \\n 분리\n",
    "for line in data.split('\\n'):\n",
    "    word_result = []\n",
    "    for word in line.split(' '):\n",
    "        if len(word) == 14 and word [:6].isdigit() and word[7:].isdigit:\n",
    "          word = word[:6] + '_*******'\n",
    "        word_result.append(word)\n",
    "    print(word_result)\n",
    "        "
   ]
  },
  {
   "cell_type": "code",
   "execution_count": 12,
   "metadata": {},
   "outputs": [
    {
     "name": "stdout",
     "output_type": "stream",
     "text": [
      "['', 'park 800905 - 1049118', 'kim 700905 - 1059119', '']\n"
     ]
    },
    {
     "data": {
      "text/plain": [
       "'800905'"
      ]
     },
     "execution_count": 12,
     "metadata": {},
     "output_type": "execute_result"
    }
   ],
   "source": [
    "lines = data.split('\\n')\n",
    "print(lines)\n",
    "line = lines[1].split(' ')\n",
    "line[1]\n",
    "# 주민번호 조건\n",
    "# 길이 : 14, 앞에서 6개 숫자, 뒤에서 7개 숫자 \n"
   ]
  },
  {
   "cell_type": "code",
   "execution_count": 31,
   "metadata": {},
   "outputs": [
    {
     "data": {
      "text/plain": [
       "'\\npark 800905 - 1049118\\nkim 700905 - 1059119\\n'"
      ]
     },
     "execution_count": 31,
     "metadata": {},
     "output_type": "execute_result"
    }
   ],
   "source": [
    "data"
   ]
  },
  {
   "cell_type": "code",
   "execution_count": 72,
   "metadata": {},
   "outputs": [
    {
     "data": {
      "text/plain": [
       "'\\npark 1049118-sa\\nkim 700905- 1059119\\n'"
      ]
     },
     "execution_count": 72,
     "metadata": {},
     "output_type": "execute_result"
    }
   ],
   "source": [
    "data ='''\n",
    "park 800905-1049118\n",
    "kim 700905- 1059119\n",
    "'''\n",
    "\n",
    "\n",
    "import re\n",
    "pat = re.compile('(\\d{6})[-](\\d{7})') # () : 그룹으로 묶는다\n",
    "pat.sub('\\g<2>-sa', data)"
   ]
  }
 ],
 "metadata": {
  "kernelspec": {
   "display_name": "firstenv",
   "language": "python",
   "name": "python3"
  },
  "language_info": {
   "codemirror_mode": {
    "name": "ipython",
    "version": 3
   },
   "file_extension": ".py",
   "mimetype": "text/x-python",
   "name": "python",
   "nbconvert_exporter": "python",
   "pygments_lexer": "ipython3",
   "version": "3.10.16"
  }
 },
 "nbformat": 4,
 "nbformat_minor": 2
}
