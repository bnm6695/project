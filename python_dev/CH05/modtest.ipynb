{
 "cells": [
  {
   "cell_type": "code",
   "execution_count": 2,
   "metadata": {},
   "outputs": [
    {
     "data": {
      "text/plain": [
       "['c:\\\\Users\\\\TJ\\\\.conda\\\\envs\\\\firstenv\\\\python310.zip',\n",
       " 'c:\\\\Users\\\\TJ\\\\.conda\\\\envs\\\\firstenv\\\\DLLs',\n",
       " 'c:\\\\Users\\\\TJ\\\\.conda\\\\envs\\\\firstenv\\\\lib',\n",
       " 'c:\\\\Users\\\\TJ\\\\.conda\\\\envs\\\\firstenv',\n",
       " '',\n",
       " 'c:\\\\Users\\\\TJ\\\\.conda\\\\envs\\\\firstenv\\\\lib\\\\site-packages',\n",
       " 'c:\\\\Users\\\\TJ\\\\.conda\\\\envs\\\\firstenv\\\\lib\\\\site-packages\\\\win32',\n",
       " 'c:\\\\Users\\\\TJ\\\\.conda\\\\envs\\\\firstenv\\\\lib\\\\site-packages\\\\win32\\\\lib',\n",
       " 'c:\\\\Users\\\\TJ\\\\.conda\\\\envs\\\\firstenv\\\\lib\\\\site-packages\\\\Pythonwin']"
      ]
     },
     "execution_count": 2,
     "metadata": {},
     "output_type": "execute_result"
    }
   ],
   "source": [
    "#  라이브러리 관리하는 환경변수 값들을 확인\n",
    "import sys\n",
    "\n",
    "sys.path"
   ]
  },
  {
   "cell_type": "code",
   "execution_count": null,
   "metadata": {},
   "outputs": [],
   "source": [
    "# ch05에 오른쪽 마우스 클릭 => copy path, ch05 파일 경로 복사 => window기준 \\는 escape 때문에 \\\\로 바꿔줄것. \n",
    "## sys.path.append('C:\\\\big19\\\\python_dev\\\\CH05')\n",
    "# sys.path.append 자체는 사용하지않는다. 절대경로(c:부터 시작하는)를 쓰지않는다. 상대경로를 사용한다. 코드 실행하지 말것."
   ]
  }
 ],
 "metadata": {
  "kernelspec": {
   "display_name": "firstenv",
   "language": "python",
   "name": "python3"
  },
  "language_info": {
   "codemirror_mode": {
    "name": "ipython",
    "version": 3
   },
   "file_extension": ".py",
   "mimetype": "text/x-python",
   "name": "python",
   "nbconvert_exporter": "python",
   "pygments_lexer": "ipython3",
   "version": "3.10.16"
  }
 },
 "nbformat": 4,
 "nbformat_minor": 2
}
