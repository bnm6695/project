{
 "cells": [
  {
   "cell_type": "code",
   "execution_count": 8,
   "metadata": {},
   "outputs": [
    {
     "data": {
      "text/plain": [
       "['modtest.ipynb']"
      ]
     },
     "execution_count": 8,
     "metadata": {},
     "output_type": "execute_result"
    }
   ],
   "source": [
    "import glob\n",
    "\n",
    "# glob.glob('*.py')\n",
    "# glob.glob('mod*')\n",
    "glob.glob('*test*') "
   ]
  },
  {
   "cell_type": "code",
   "execution_count": 25,
   "metadata": {},
   "outputs": [
    {
     "name": "stdout",
     "output_type": "stream",
     "text": [
      "1740367251.3917623\n",
      "time.struct_time(tm_year=2025, tm_mon=2, tm_mday=24, tm_hour=12, tm_min=20, tm_sec=51, tm_wday=0, tm_yday=55, tm_isdst=0)\n",
      "2025\n",
      "2\n"
     ]
    }
   ],
   "source": [
    "# 날짜 시간 다루기 : time module, datetime 표준 \n",
    "import time\n",
    "\n",
    "print(time.time()) # > 이값을 날짜 시간으로 표시\n",
    "print(time.localtime(time.time()))\n",
    "# today = time.localtime(time.time()) # 현재 날짜 시간을 포맷 추출\n",
    "today = time.localtime() # 현재 날짜 시간을 포맷 추출\n",
    "print(today.tm_year ) #년도 추출\n",
    "print(today.tm_mon ) # 월 추출\n"
   ]
  },
  {
   "cell_type": "code",
   "execution_count": 26,
   "metadata": {},
   "outputs": [
    {
     "data": {
      "text/plain": [
       "'Mon Feb 24 12:24:07 2025'"
      ]
     },
     "execution_count": 26,
     "metadata": {},
     "output_type": "execute_result"
    }
   ],
   "source": [
    "time.ctime()"
   ]
  },
  {
   "cell_type": "code",
   "execution_count": 27,
   "metadata": {},
   "outputs": [
    {
     "name": "stdout",
     "output_type": "stream",
     "text": [
      "02/24/25\n",
      "12:30:37\n"
     ]
    }
   ],
   "source": [
    "# 한국\n",
    "# strftime() 포맷 변경 (string for time)    \n",
    "# time.strftime('출력할 형식 포맷 코드')\n",
    "print(time.strftime('%x', time.localtime())) # 날짜 추출\n",
    "print(time.strftime('%X', time.localtime())) # 날짜 추출"
   ]
  },
  {
   "cell_type": "code",
   "execution_count": 30,
   "metadata": {},
   "outputs": [
    {
     "name": "stdout",
     "output_type": "stream",
     "text": [
      "2025-02-24 13:43:15.427847\n"
     ]
    }
   ],
   "source": [
    "# datatime module\n",
    "import datetime\n",
    "\n",
    "# 1. 현재 날짜와 시간 가져오기\n",
    "now = datetime.datetime.now()\n",
    "print(now)"
   ]
  },
  {
   "cell_type": "code",
   "execution_count": 31,
   "metadata": {},
   "outputs": [],
   "source": [
    "# 2. 오늘 날짜 가져오기\n"
   ]
  },
  {
   "cell_type": "code",
   "execution_count": 33,
   "metadata": {},
   "outputs": [
    {
     "name": "stdout",
     "output_type": "stream",
     "text": [
      "2025-02-24 13:44:00\n"
     ]
    }
   ],
   "source": [
    "# 3. 특정 날짜와 시간 object 생성\n",
    "s_dt = datetime.datetime(2025,2,24,13,44,00,00)\n",
    "print(s_dt)"
   ]
  },
  {
   "cell_type": "code",
   "execution_count": 35,
   "metadata": {},
   "outputs": [
    {
     "name": "stdout",
     "output_type": "stream",
     "text": [
      "2025-02-24\n",
      "2025-02-24\n"
     ]
    }
   ],
   "source": [
    "#s_dt 특정한 값 추출\n",
    "print(s_dt.strftime('%Y-%m-%d'))\n",
    "print(s_dt.strftime('%Y-%m-%d'))\n"
   ]
  },
  {
   "cell_type": "code",
   "execution_count": 46,
   "metadata": {},
   "outputs": [
    {
     "name": "stdout",
     "output_type": "stream",
     "text": [
      "<class 'datetime.datetime'>\n"
     ]
    }
   ],
   "source": [
    "# 날짜 시간 문자열로 datetime object 생성\n",
    "dt_str = '2025-02-24 15:49:00'\n",
    "parsed_dt = \\\n",
    "datetime.datetime.strptime(dt_str, '%Y-%m-%d %H:%M:%S')\n",
    "print(type(parsed_dt))"
   ]
  },
  {
   "cell_type": "code",
   "execution_count": 53,
   "metadata": {},
   "outputs": [
    {
     "name": "stdout",
     "output_type": "stream",
     "text": [
      "2025-03-01 13:43:15.427847\n",
      "2025-02-19 13:43:15.427847\n"
     ]
    }
   ],
   "source": [
    "# 6. 날짜 시간 연산 : timedelta\n",
    "# now : 현재 날짜 시간\n",
    "# now + 5일\n",
    "delta = datetime.timedelta(days=5)\n",
    "print(now + delta)\n",
    "print(now - delta)\n",
    "future_dt = now + delta # 5일 후\n",
    "past_dt = now - delta # 5일 전\n"
   ]
  },
  {
   "cell_type": "code",
   "execution_count": 55,
   "metadata": {},
   "outputs": [
    {
     "name": "stdout",
     "output_type": "stream",
     "text": [
      "미래의 날짜와 시간이 현재보다 뒤에 있다.\n"
     ]
    }
   ],
   "source": [
    "# 7. 비교\n",
    "if future_dt > now :\n",
    "    print('미래의 날짜와 시간이 현재보다 뒤에 있다.')\n",
    "else:\n",
    "    print('미래의 날짜와 시간이 현재보다 앞에 있다.')"
   ]
  },
  {
   "cell_type": "code",
   "execution_count": 61,
   "metadata": {},
   "outputs": [
    {
     "name": "stdout",
     "output_type": "stream",
     "text": [
      "2024-02-24 13:30:00\n",
      "2024-02-24 13:30:00+09:00\n"
     ]
    }
   ],
   "source": [
    "# 8. UTC 시간대\n",
    "# 시간대 정보 없는 상태\n",
    "naive_dt = datetime.datetime(2024,2,24,13,30,0) # 특정 날짜 시간 object를 생성, utc값이 없는 상태.\n",
    "print(naive_dt)\n",
    "\n",
    "# 시간대 정보 갖는 object 생성\n",
    "kst = datetime.timezone(datetime.timedelta(hours=9))\n",
    "\n",
    "aware_dt = naive_dt.replace(tzinfo=kst)\n",
    "print(aware_dt)"
   ]
  },
  {
   "cell_type": "code",
   "execution_count": null,
   "metadata": {},
   "outputs": [
    {
     "name": "stdout",
     "output_type": "stream",
     "text": [
      "<class 'datetime.timedelta'>\n",
      "1828\n"
     ]
    }
   ],
   "source": [
    "# 날짜와 시간을 다루는 object 생성 방법\n",
    "# datetime.datetime() : 클래스 생성자\n",
    "\n",
    "# 날짜 object 생성\n",
    "# datetime.date() 연산 \n",
    "date1 = datetime.date(2025,2,23) \n",
    "date2 = datetime.date(2020,2,22)\n",
    "\n",
    "# 5년치 데이터 겨우 1800개 정도밖에 \n",
    "diff = date1 - date2 # return timedelta\n",
    "print(type(diff))\n",
    "print(diff.days)"
   ]
  },
  {
   "cell_type": "code",
   "execution_count": 67,
   "metadata": {},
   "outputs": [
    {
     "name": "stdout",
     "output_type": "stream",
     "text": [
      "2025-03-03 13:43:15.427847 2025-02-24 13:43:15.427847\n"
     ]
    }
   ],
   "source": [
    "# 시간 관련 추가 연산 : 주, 분기, 연 단위 연산\n",
    "# 주단위 연산 \n",
    "one_week = datetime.timedelta(weeks=1)\n",
    "next_week = now + one_week\n",
    "print(next_week, now)\n"
   ]
  },
  {
   "cell_type": "code",
   "execution_count": 69,
   "metadata": {},
   "outputs": [
    {
     "name": "stdout",
     "output_type": "stream",
     "text": [
      "2025\n",
      "2\n",
      "24\n",
      "13\n",
      "43\n",
      "43\n",
      "15\n"
     ]
    }
   ],
   "source": [
    "print(now.year)\n",
    "print(now.month)\n",
    "print(now.day)\n",
    "print(now.hour)\n",
    "print(now.minute)\n",
    "print(now.minute)\n",
    "print(now.second)"
   ]
  },
  {
   "cell_type": "code",
   "execution_count": 70,
   "metadata": {},
   "outputs": [
    {
     "name": "stdout",
     "output_type": "stream",
     "text": [
      "0\n",
      "1\n",
      "2\n",
      "3\n",
      "4\n",
      "5\n",
      "6\n",
      "7\n",
      "8\n",
      "9\n"
     ]
    }
   ],
   "source": [
    "import time\n",
    "\n",
    "for i in range(10):\n",
    "    print(i)\n",
    "    time.sleep(1)"
   ]
  },
  {
   "cell_type": "code",
   "execution_count": null,
   "metadata": {},
   "outputs": [],
   "source": []
  }
 ],
 "metadata": {
  "kernelspec": {
   "display_name": "firstenv",
   "language": "python",
   "name": "python3"
  },
  "language_info": {
   "codemirror_mode": {
    "name": "ipython",
    "version": 3
   },
   "file_extension": ".py",
   "mimetype": "text/x-python",
   "name": "python",
   "nbconvert_exporter": "python",
   "pygments_lexer": "ipython3",
   "version": "3.10.16"
  }
 },
 "nbformat": 4,
 "nbformat_minor": 2
}
