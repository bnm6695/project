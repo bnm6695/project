{
 "cells": [
  {
   "cell_type": "code",
   "execution_count": null,
   "metadata": {},
   "outputs": [
    {
     "data": {
      "text/plain": [
       "dict"
      ]
     },
     "execution_count": 1,
     "metadata": {},
     "output_type": "execute_result"
    }
   ],
   "source": [
    "# 딕셔너리 생성\n",
    "# 딕셔너리는 순서가 없다.\n",
    "dict_ ={} # dict 사용할때 _사용할것. 빈 딕셔너리 생성\n",
    "type(dict_)"
   ]
  },
  {
   "cell_type": "code",
   "execution_count": 2,
   "metadata": {},
   "outputs": [
    {
     "name": "stdout",
     "output_type": "stream",
     "text": [
      "{'name': 'pey', 'phone': '01077777777', 'birth': '1118'}\n"
     ]
    }
   ],
   "source": [
    "# \n",
    "dic = {\n",
    "    'name':'pey',\n",
    "    'phone':'01077777777',\n",
    "    'birth':'1118'\n",
    "}\n",
    "print(dic)\n"
   ]
  },
  {
   "cell_type": "code",
   "execution_count": null,
   "metadata": {},
   "outputs": [
    {
     "name": "stdout",
     "output_type": "stream",
     "text": [
      "홍길동\n",
      "홍길동\n"
     ]
    }
   ],
   "source": [
    "# 쌍(키:값) 추가\n",
    "# 키의 값은 아무거나 된다.\n",
    "# a = {0 : '홍길동'}\n",
    "# key 로는 숫자를 사용하지않는다. 숫자 사용할거면 list로 사용한다.\n",
    "# 1 (list)\n",
    "a = ['홍길동']\n",
    "print(a[0])\n",
    "# 2 (dict)\n",
    "a = {'name':'홍길동'}\n",
    "print(a.get('name'))  \n"
   ]
  },
  {
   "cell_type": "code",
   "execution_count": 8,
   "metadata": {},
   "outputs": [
    {
     "name": "stdout",
     "output_type": "stream",
     "text": [
      "{'a': [1, 2, 3]}\n",
      "[1, 2, 3]\n"
     ]
    }
   ],
   "source": [
    "# value에 리스트(여러개값) 가능\n",
    "a = {'a' : [1,2,3]}\n",
    "print(a)\n",
    "print(a.get('a'))"
   ]
  },
  {
   "cell_type": "code",
   "execution_count": null,
   "metadata": {},
   "outputs": [
    {
     "name": "stdout",
     "output_type": "stream",
     "text": [
      "{1: 'a'}\n",
      "{1: 'a', 2: 'b'}\n",
      "{1: 'a', 2: 'b', 'name': '홍길동'}\n",
      "{1: 'a', 2: 'b', 'name': '홍길동', 3: [1, 2, 3]}\n"
     ]
    }
   ],
   "source": [
    "# 데이터 추가 (쌍으로 추가)\n",
    "# 딕셔너리는 순서가 없다. 작성하는 순서대로 들어오는거 보장되지 않는다.\n",
    "a = {1 : 'a'}\n",
    "print(a)\n",
    "# 추가 : a[2<-키] ='b' <- 값\n",
    "a[2] = 'b'\n",
    "print(a)\n",
    "# 추가\n",
    "a['name'] = '홍길동'\n",
    "print(a)\n",
    "#값으로 여러개 추가\n",
    "a[3] =[1,2,3]\n",
    "print(a)"
   ]
  },
  {
   "cell_type": "code",
   "execution_count": 12,
   "metadata": {},
   "outputs": [
    {
     "name": "stdout",
     "output_type": "stream",
     "text": [
      "{1: 'a', 2: 'b', 'name': '홍길동', 3: [1, 2, 3]}\n",
      "{2: 'b', 'name': '홍길동', 3: [1, 2, 3]}\n"
     ]
    }
   ],
   "source": [
    "# 삭제 : 메소드를 사용한다\n",
    "print(a)\n",
    "del a[1] # 1 이라는 키로 삭제\n",
    "print(a)"
   ]
  },
  {
   "cell_type": "code",
   "execution_count": 13,
   "metadata": {},
   "outputs": [
    {
     "name": "stdout",
     "output_type": "stream",
     "text": [
      "{'pey': 10, 'julliet': 99}\n",
      "10\n"
     ]
    }
   ],
   "source": [
    "# 딕셔너리 사용\n",
    "grade = {\n",
    "    'pey' : 10,\n",
    "    'julliet' : 99\n",
    "}\n",
    "print(grade)\n",
    "# pey 점수 추출\n",
    "print(grade['pey'])"
   ]
  },
  {
   "cell_type": "code",
   "execution_count": null,
   "metadata": {},
   "outputs": [
    {
     "name": "stdout",
     "output_type": "stream",
     "text": [
      "{1: 'a'}\n",
      "{1: 'b'}\n"
     ]
    },
    {
     "ename": "TypeError",
     "evalue": "unhashable type: 'list'",
     "output_type": "error",
     "traceback": [
      "\u001b[1;31m---------------------------------------------------------------------------\u001b[0m",
      "\u001b[1;31mTypeError\u001b[0m                                 Traceback (most recent call last)",
      "Cell \u001b[1;32mIn[15], line 9\u001b[0m\n\u001b[0;32m      6\u001b[0m \u001b[38;5;28mprint\u001b[39m(a)\n\u001b[0;32m      8\u001b[0m \u001b[38;5;66;03m# 키는 여러개가 될 수 없다 : 키의 값은 단일값이어야 한다\u001b[39;00m\n\u001b[1;32m----> 9\u001b[0m a[[\u001b[38;5;241m1\u001b[39m,\u001b[38;5;241m2\u001b[39m]] \u001b[38;5;241m=\u001b[39m \u001b[38;5;124m'\u001b[39m\u001b[38;5;124mc\u001b[39m\u001b[38;5;124m'\u001b[39m\n",
      "\u001b[1;31mTypeError\u001b[0m: unhashable type: 'list'"
     ]
    }
   ],
   "source": [
    "# 딕셔너리 처리시 주의 사항\n",
    "# 키 중복 안된다.\n",
    "a = {1:'a'}\n",
    "print(a)\n",
    "a[1] = 'b' # 추가(추가가 아닌 수정) : 키가 동일할 경우 기존 값이 수정된다.\n",
    "print(a)\n",
    "\n",
    "# 키는 여러개가 될 수 없다 : 키의 값은 단일값이어야 한다. \n",
    "# a[[1,2]] = 'c'  #(unhashable Error)"
   ]
  },
  {
   "cell_type": "code",
   "execution_count": null,
   "metadata": {},
   "outputs": [
    {
     "name": "stdout",
     "output_type": "stream",
     "text": [
      "{1: 'b', (1, 2): 'c'}\n",
      "c\n"
     ]
    }
   ],
   "source": [
    "# 키는 변경하면 안되기 때문에 튜플(변경 불가능)을 사용할 수있다. 다만 잘 사용하지 않는다.\n",
    "a[(1,2)] = 'c'\n",
    "print(a)\n",
    "print(a[(1,2)])"
   ]
  },
  {
   "cell_type": "code",
   "execution_count": null,
   "metadata": {},
   "outputs": [
    {
     "name": "stdout",
     "output_type": "stream",
     "text": [
      "{'name': 'pey', 'phone': '01033334444', 'birth': '1118'}\n",
      "dict_keys(['name', 'phone', 'birth'])\n",
      "<class 'dict_keys'>\n"
     ]
    }
   ],
   "source": [
    "# 딕셔너리 관련 메소드들\n",
    "# 1. 키들만을 추출 메소드\n",
    "a = {\n",
    "    'name':'pey',\n",
    "    'phone':'01033334444',\n",
    "    'birth':'1118'\n",
    "}\n",
    "print(a)\n",
    "print(a.keys()) # 주의 사항 return 타입이 list가 아닌 dict_keys라는 object이다 \n",
    "print(type(a.keys())) # dict_keys는 iterable을 상속받았기 때문에 반복가능하다 "
   ]
  },
  {
   "cell_type": "code",
   "execution_count": null,
   "metadata": {},
   "outputs": [
    {
     "name": "stdout",
     "output_type": "stream",
     "text": [
      "name\n",
      "phone\n",
      "birth\n"
     ]
    }
   ],
   "source": [
    "for key in a.keys(): # 파이썬의 for문은 for in으로 사용\n",
    "    print(key)"
   ]
  },
  {
   "cell_type": "code",
   "execution_count": 26,
   "metadata": {},
   "outputs": [
    {
     "name": "stdout",
     "output_type": "stream",
     "text": [
      "{'name': 'pey', 'phone': '01033334444', 'birth': '1118'}\n",
      "dict_values(['pey', '01033334444', '1118'])\n"
     ]
    }
   ],
   "source": [
    "# 2. values 추출\n",
    "print(a)\n",
    "print(a.values()) # 주의 사항 list가 아닌 dict_values라는 object 반환."
   ]
  },
  {
   "cell_type": "code",
   "execution_count": null,
   "metadata": {},
   "outputs": [
    {
     "name": "stdout",
     "output_type": "stream",
     "text": [
      "{'name': 'pey', 'phone': '01033334444', 'birth': '1118'}\n",
      "dict_items([('name', 'pey'), ('phone', '01033334444'), ('birth', '1118')])\n"
     ]
    }
   ],
   "source": [
    "# 키, 값 쌍으로 추출 \n",
    "print(a)\n",
    "print(a.items()) # dict_items"
   ]
  },
  {
   "cell_type": "code",
   "execution_count": null,
   "metadata": {},
   "outputs": [
    {
     "name": "stdout",
     "output_type": "stream",
     "text": [
      "None\n",
      "{}\n"
     ]
    }
   ],
   "source": [
    "# 모두 지우기 : clear() => 빈 딕셔너리가 남는다\n",
    "print(a.clear())\n",
    "print(a)"
   ]
  },
  {
   "cell_type": "code",
   "execution_count": null,
   "metadata": {},
   "outputs": [
    {
     "name": "stdout",
     "output_type": "stream",
     "text": [
      "{'name': 'pey', 'phone': '01033334444', 'birth': '1118'}\n",
      "pey\n",
      "키가 없다\n"
     ]
    },
    {
     "ename": "KeyError",
     "evalue": "'aaa'",
     "output_type": "error",
     "traceback": [
      "\u001b[1;31m---------------------------------------------------------------------------\u001b[0m",
      "\u001b[1;31mKeyError\u001b[0m                                  Traceback (most recent call last)",
      "Cell \u001b[1;32mIn[35], line 10\u001b[0m\n\u001b[0;32m      8\u001b[0m \u001b[38;5;28mprint\u001b[39m(a\u001b[38;5;241m.\u001b[39mget(\u001b[38;5;124m'\u001b[39m\u001b[38;5;124mname\u001b[39m\u001b[38;5;124m'\u001b[39m))\n\u001b[0;32m      9\u001b[0m \u001b[38;5;28mprint\u001b[39m(a\u001b[38;5;241m.\u001b[39mget(\u001b[38;5;124m'\u001b[39m\u001b[38;5;124maaa\u001b[39m\u001b[38;5;124m'\u001b[39m,\u001b[38;5;124m'\u001b[39m\u001b[38;5;124m키가 없다\u001b[39m\u001b[38;5;124m'\u001b[39m)) \u001b[38;5;66;03m# 없는 값을 메소드를 사용하면 none 나옴\u001b[39;00m\n\u001b[1;32m---> 10\u001b[0m \u001b[38;5;28mprint\u001b[39m(\u001b[43ma\u001b[49m\u001b[43m[\u001b[49m\u001b[38;5;124;43m'\u001b[39;49m\u001b[38;5;124;43maaa\u001b[39;49m\u001b[38;5;124;43m'\u001b[39;49m\u001b[43m]\u001b[49m)\n",
      "\u001b[1;31mKeyError\u001b[0m: 'aaa'"
     ]
    }
   ],
   "source": [
    "# 키 값으로 value 추출 : get(key)\n",
    "a = {\n",
    "    'name':'pey',\n",
    "    'phone':'01033334444',\n",
    "    'birth':'1118'\n",
    "}\n",
    "print(a)\n",
    "print(a.get('name'))\n",
    "\n",
    "print(a.get('aaa')) # 없는 값을 메소드를 사용하면 none 나옴\n",
    "print(a.get('aaa','키가 없다')) # 'aaa'가 없을시 '키가 없다' 반환\n",
    "# print(a['aaa']) # 메소드 사용하지않을 시 keyError , error 시 작동 중지되기 때문에 메소드를 주로 사용한다."
   ]
  },
  {
   "cell_type": "code",
   "execution_count": 38,
   "metadata": {},
   "outputs": [
    {
     "name": "stdout",
     "output_type": "stream",
     "text": [
      "{'name': 'pey', 'phone': '01033334444', 'birth': '1118'}\n",
      "True\n",
      "False\n"
     ]
    }
   ],
   "source": [
    "\n",
    "# 해당 키가 딕셔너리 안에 있는지 조사 : in 연산자\n",
    "# 방식 : 값 in iterable(반복가능한 객체) => bool(True, Flase) bool은 앞에 첫 문자가 대문자여야한다\n",
    "print(a)\n",
    "print('name' in a) # a 안에 키중에 'name' 키가 있니?\n",
    "print('email' in a)"
   ]
  },
  {
   "cell_type": "code",
   "execution_count": null,
   "metadata": {},
   "outputs": [],
   "source": []
  },
  {
   "cell_type": "code",
   "execution_count": null,
   "metadata": {},
   "outputs": [],
   "source": []
  },
  {
   "cell_type": "code",
   "execution_count": null,
   "metadata": {},
   "outputs": [],
   "source": []
  },
  {
   "cell_type": "code",
   "execution_count": null,
   "metadata": {},
   "outputs": [],
   "source": []
  }
 ],
 "metadata": {
  "kernelspec": {
   "display_name": "firstenv",
   "language": "python",
   "name": "python3"
  },
  "language_info": {
   "codemirror_mode": {
    "name": "ipython",
    "version": 3
   },
   "file_extension": ".py",
   "mimetype": "text/x-python",
   "name": "python",
   "nbconvert_exporter": "python",
   "pygments_lexer": "ipython3",
   "version": "3.10.16"
  }
 },
 "nbformat": 4,
 "nbformat_minor": 2
}
