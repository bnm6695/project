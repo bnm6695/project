{
 "cells": [
  {
   "cell_type": "code",
   "execution_count": 7,
   "metadata": {},
   "outputs": [],
   "source": [
    "multiline ='Life is too short\\nYou need python'"
   ]
  },
  {
   "cell_type": "code",
   "execution_count": null,
   "metadata": {},
   "outputs": [
    {
     "name": "stdout",
     "output_type": "stream",
     "text": [
      "Life is too short\n",
      "You need python\n"
     ]
    }
   ],
   "source": [
    "# 표시,출력(print)할 때 \\n이 작동함.\n",
    "print(multiline)"
   ]
  },
  {
   "cell_type": "code",
   "execution_count": null,
   "metadata": {},
   "outputs": [
    {
     "data": {
      "text/plain": [
       "'Life is too short\\nYou need python'"
      ]
     },
     "execution_count": 10,
     "metadata": {},
     "output_type": "execute_result"
    }
   ],
   "source": [
    "# 출력이 아니다. 값만 확인 (데이터만 확인)\n",
    "multiline"
   ]
  },
  {
   "cell_type": "code",
   "execution_count": 17,
   "metadata": {},
   "outputs": [],
   "source": [
    "multiline = '''Life is too short\n",
    "You need Python'''"
   ]
  },
  {
   "cell_type": "code",
   "execution_count": 18,
   "metadata": {},
   "outputs": [
    {
     "data": {
      "text/plain": [
       "'Life is too short\\nYou need Python'"
      ]
     },
     "execution_count": 18,
     "metadata": {},
     "output_type": "execute_result"
    }
   ],
   "source": [
    "multiline"
   ]
  },
  {
   "cell_type": "code",
   "execution_count": 19,
   "metadata": {},
   "outputs": [
    {
     "name": "stdout",
     "output_type": "stream",
     "text": [
      "Life is too short\n",
      "You need Python\n"
     ]
    }
   ],
   "source": [
    "print(multiline)"
   ]
  },
  {
   "cell_type": "code",
   "execution_count": 20,
   "metadata": {},
   "outputs": [
    {
     "data": {
      "text/plain": [
       "'\\n1. 주석\\n2. 여러줄 주석\\n3. 기타등등\\n'"
      ]
     },
     "execution_count": 20,
     "metadata": {},
     "output_type": "execute_result"
    }
   ],
   "source": [
    "'''\n",
    "1. 주석\n",
    "2. 여러줄 주석\n",
    "3. 기타등등\n",
    "'''"
   ]
  },
  {
   "cell_type": "code",
   "execution_count": 21,
   "metadata": {},
   "outputs": [
    {
     "name": "stdout",
     "output_type": "stream",
     "text": [
      "=*2\n"
     ]
    }
   ],
   "source": [
    "print('=*2')"
   ]
  },
  {
   "cell_type": "code",
   "execution_count": 24,
   "metadata": {},
   "outputs": [
    {
     "name": "stdout",
     "output_type": "stream",
     "text": [
      "====================\n"
     ]
    }
   ],
   "source": [
    "print('='*20)"
   ]
  },
  {
   "cell_type": "code",
   "execution_count": 27,
   "metadata": {},
   "outputs": [
    {
     "name": "stdout",
     "output_type": "stream",
     "text": [
      "====================\n",
      "연락처 프로그램\n",
      "====================\n"
     ]
    }
   ],
   "source": [
    "print('='*20)\n",
    "print('연락처 프로그램')\n",
    "print('='*20)"
   ]
  },
  {
   "cell_type": "code",
   "execution_count": 30,
   "metadata": {},
   "outputs": [],
   "source": [
    "a = 'Life is too short, You need Python'"
   ]
  },
  {
   "cell_type": "code",
   "execution_count": 36,
   "metadata": {},
   "outputs": [
    {
     "data": {
      "text/plain": [
       "('u', 's', 'n', 'n', 'h')"
      ]
     },
     "execution_count": 36,
     "metadata": {},
     "output_type": "execute_result"
    }
   ],
   "source": [
    "# - : 맨끝에서부터 인덱스\n",
    "a[21], a[12], a[33],a[-1],a[-3]\n",
    "\n"
   ]
  },
  {
   "cell_type": "code",
   "execution_count": null,
   "metadata": {},
   "outputs": [
    {
     "data": {
      "text/plain": [
       "'Life'"
      ]
     },
     "execution_count": 38,
     "metadata": {},
     "output_type": "execute_result"
    }
   ],
   "source": [
    "# 슬라이싱 : 여러개 접근시 사용 => : 범위 지정\n",
    "# [시작 인덱스 : 끝 인덱스 -1]\n",
    "# 'Life' 단어추출\n",
    "a[0:4]"
   ]
  },
  {
   "cell_type": "markdown",
   "metadata": {},
   "source": [
    "##### 슬라이싱 사용 방법\n",
    " 1. [시작값 : 끝값] : 시작값부터 끝값 -1 까지 추출\n",
    " 2. [시작값 : X] : 시작값부터 끝까지 추출\n",
    " 3. [X : 끝값] : 처음부터 끝값 -1 까지 추출 \n",
    " 4. [X : X] : 처음부터 끝까지\n",
    " - '-' 마이너스 인덱스 사용할 수 있다"
   ]
  },
  {
   "cell_type": "code",
   "execution_count": 51,
   "metadata": {},
   "outputs": [
    {
     "name": "stdout",
     "output_type": "stream",
     "text": [
      "20250123\n",
      "Rainy\n"
     ]
    }
   ],
   "source": [
    "# 데이터로 년월일날씨가 입력된다.\n",
    "# 년, 월, 일, 날씨 분리\n",
    "# _ : 중복될거같아 표시해놓은것 (date,time 등 자주 쓰는 용어)\n",
    "data = '20250123Rainy'\n",
    "\n",
    "date_= data [:8]\n",
    "print(date)\n",
    "weather = data [8:]\n",
    "print(weather)"
   ]
  },
  {
   "cell_type": "code",
   "execution_count": null,
   "metadata": {},
   "outputs": [
    {
     "name": "stdout",
     "output_type": "stream",
     "text": [
      "i\n",
      "python\n",
      "python\n"
     ]
    }
   ],
   "source": [
    "a = 'pithon'\n",
    "print(a[1])\n",
    "# a[1] ='y' error, 수정안된다\n",
    "print(a[0] + 'y' + a[2:])\n",
    "a = 'python'\n",
    "print(a)"
   ]
  },
  {
   "cell_type": "markdown",
   "metadata": {},
   "source": [
    "### 문자열 포매팅 : 엄청 중요\n",
    "1. % 사용하는 포매팅\n",
    "2. 문자열 객체 => format 함수 사용하는 포매팅\n",
    "3. f-string 사용하는 포매팅 : 제일 많이 사용"
   ]
  },
  {
   "cell_type": "code",
   "execution_count": 57,
   "metadata": {},
   "outputs": [
    {
     "name": "stdout",
     "output_type": "stream",
     "text": [
      "현재 온도는 18도 입니다.\n",
      "현재 온도는 20도 입니다.\n",
      "현재 온도는 22도 입니다.\n"
     ]
    }
   ],
   "source": [
    "a = '현재 온도는 18도 입니다.'\n",
    "print(a)\n",
    "a = '현재 온도는 20도 입니다.'\n",
    "print(a)\n",
    "a = '현재 온도는 22도 입니다.'\n",
    "print(a)"
   ]
  },
  {
   "cell_type": "code",
   "execution_count": null,
   "metadata": {},
   "outputs": [
    {
     "name": "stdout",
     "output_type": "stream",
     "text": [
      "현재 온도는 18 도 입니다.\n",
      "현재 온도는 18 도 입니다.\n",
      "현재 온도는 18 도 입니다.\n"
     ]
    }
   ],
   "source": [
    "# 1. % 사용\n",
    "k = 18\n",
    "print('현재 온도는 %d 도 입니다.' % k)\n",
    "# 2. format function 사용\n",
    "print('현재 온도는 {0} 도 입니다.'.format(k))\n",
    "# 3.\n",
    "print(f'현재 온도는 {k} 도 입니다.') "
   ]
  },
  {
   "cell_type": "markdown",
   "metadata": {},
   "source": [
    "### 중요 단축키 : 편집\n",
    "1. 한줄 복사 : shift + alt + 윗화살, 아래화살\n",
    "2. 한줄 삭제 : ctrl + shift + K\n",
    "3. 한줄 이동(잘라내서 붙이기) : alt +위,아래"
   ]
  },
  {
   "cell_type": "code",
   "execution_count": 70,
   "metadata": {},
   "outputs": [
    {
     "name": "stdout",
     "output_type": "stream",
     "text": [
      "사과를 1개, 배는 2개 먹었다\n",
      "사과를 one개, 배틑 two개 먹었다\n",
      "사과를 1개, 배는 2개 먹었다\n",
      "사과를 one개, 배는 two개 먹었다\n"
     ]
    }
   ],
   "source": [
    "# 1. % 사용\n",
    "# 숫자 : d, 문자 : s\n",
    "print('사과를 %d개, 배는 %d개 먹었다' %(1,2))\n",
    "print('사과를 %s개, 배틑 %s개 먹었다' %('one','two'))\n",
    "num1 = 1\n",
    "num2 = 2\n",
    "str1 = 'one'\n",
    "str2 = 'two'\n",
    "print('사과를 %d개, 배는 %d개 먹었다' % (num1, num2))\n",
    "print('사과를 %s개, 배는 %s개 먹었다' % (str1, str2))"
   ]
  },
  {
   "cell_type": "markdown",
   "metadata": {},
   "source": [
    "#### 문자열 포맷 코드(%d, %s)\n",
    "|코드|설명|\n",
    "|---|---|\n",
    "|%s|문자열|\n",
    "|%d|정수|\n",
    "|%f|실수|"
   ]
  },
  {
   "attachments": {
    "image.png": {
     "image/png": "[encoded data removed]"
    }
   },
   "cell_type": "markdown",
   "metadata": {},
   "source": [
    "![image.png](attachment:image.png)"
   ]
  },
  {
   "cell_type": "code",
   "execution_count": 77,
   "metadata": {},
   "outputs": [
    {
     "name": "stdout",
     "output_type": "stream",
     "text": [
      "        hijane\n",
      "10\n",
      "hi        jane\n"
     ]
    }
   ],
   "source": [
    "# 포맷 코드와 숫자 함께 사용하기\n",
    "# 1) 정렬과 공백\n",
    "print('%10sjane' % 'hi') # 오른쪽 정렬\n",
    "print(len('%10s' % 'hi')) \n",
    "print(('%-10sjane' % 'hi')) # 왼쪽 정렬 "
   ]
  },
  {
   "cell_type": "code",
   "execution_count": null,
   "metadata": {},
   "outputs": [
    {
     "name": "stdout",
     "output_type": "stream",
     "text": [
      "3.421343\n",
      "3.421342\n",
      "3.4214\n",
      "3.4213\n",
      "    3.4213\n",
      "10\n"
     ]
    }
   ],
   "source": [
    "# 소수점 표현\n",
    "print('%f' % 3.42134264) # 소수점 6번째자리에서 반올림\n",
    "print('%f' % 3.42134244) \n",
    "print('%0.4f' % 3.42136244) # 소수점 4번째자리에서 반올림 표시\n",
    "# %0.4f\n",
    "# 4 : 소수점 자리수, 0 : 정수부 다 받겠다\n",
    "print('%0.4f' % 3.42134244) \n",
    "print('%10.4f' % 3.42134244)  # %10 : 전체 자릿수가 10개다.\n",
    "print(len('%10.4f' % 3.42134244)) "
   ]
  },
  {
   "cell_type": "markdown",
   "metadata": {},
   "source": [
    "#### 문자열 관련 메소드\n",
    "1. count(찾을 문자열:단어) : 문자열에서 찾을문자열의 개수 반환 메소드\n"
   ]
  },
  {
   "cell_type": "code",
   "execution_count": 89,
   "metadata": {},
   "outputs": [
    {
     "name": "stdout",
     "output_type": "stream",
     "text": [
      "2\n",
      "1\n"
     ]
    }
   ],
   "source": [
    "a = 'hobby'\n",
    "print(a.count('b'))\n",
    "print(a.count('bb'))"
   ]
  },
  {
   "cell_type": "code",
   "execution_count": null,
   "metadata": {},
   "outputs": [
    {
     "name": "stdout",
     "output_type": "stream",
     "text": [
      "10\n",
      "10\n",
      "-1\n"
     ]
    },
    {
     "ename": "ValueError",
     "evalue": "substring not found",
     "output_type": "error",
     "traceback": [
      "\u001b[1;31m---------------------------------------------------------------------------\u001b[0m",
      "\u001b[1;31mValueError\u001b[0m                                Traceback (most recent call last)",
      "Cell \u001b[1;32mIn[92], line 7\u001b[0m\n\u001b[0;32m      5\u001b[0m \u001b[38;5;28mprint\u001b[39m(a\u001b[38;5;241m.\u001b[39mfind(\u001b[38;5;124m'\u001b[39m\u001b[38;5;124mbest\u001b[39m\u001b[38;5;124m'\u001b[39m))\n\u001b[0;32m      6\u001b[0m \u001b[38;5;28mprint\u001b[39m(a\u001b[38;5;241m.\u001b[39mfind(\u001b[38;5;124m'\u001b[39m\u001b[38;5;124mk\u001b[39m\u001b[38;5;124m'\u001b[39m)) \u001b[38;5;66;03m# 없는 값을 찾을 경우 -1 을 반환한다.\u001b[39;00m\n\u001b[1;32m----> 7\u001b[0m \u001b[38;5;28mprint\u001b[39m(\u001b[43ma\u001b[49m\u001b[38;5;241;43m.\u001b[39;49m\u001b[43mindex\u001b[49m\u001b[43m(\u001b[49m\u001b[38;5;124;43m'\u001b[39;49m\u001b[38;5;124;43mk\u001b[39;49m\u001b[38;5;124;43m'\u001b[39;49m\u001b[43m)\u001b[49m)\n",
      "\u001b[1;31mValueError\u001b[0m: substring not found"
     ]
    }
   ],
   "source": [
    "# 2. 찾을 문자열의 시작 인덱스 반환(find, index)\n",
    "# 단어의 시작위치의 시작을 find로 알아내고 슬라이스를 사용하여 단어 추출하는데 사용한다.\n",
    "a = 'Ptyhon is best choice'\n",
    "print(a.find('b'))\n",
    "print(a.find('best'))\n",
    "print(a.find('k')) # 없는 값을 찾을 경우 -1 을 반환한다.\n",
    "print(a.index('k')) # 없는 문자를 찾을 경우 에러 발생, 예외 처리 "
   ]
  },
  {
   "cell_type": "code",
   "execution_count": null,
   "metadata": {},
   "outputs": [
    {
     "name": "stdout",
     "output_type": "stream",
     "text": [
      "b,,b,,b,,b\n",
      ",bbbb,\n"
     ]
    }
   ],
   "source": [
    "# 3. join() method : 삽입\n",
    "a = ',,'\n",
    "b ='bbbb'\n",
    "print(a.join(b)) # a를 b의 사이사이에 삽입해라\n",
    "print(b.join(a)) # b를 a의 사이사이에 삽입해라\n"
   ]
  },
  {
   "cell_type": "code",
   "execution_count": 101,
   "metadata": {},
   "outputs": [
    {
     "name": "stdout",
     "output_type": "stream",
     "text": [
      "HI\n",
      "hi\n",
      "HI\n",
      "hi\n"
     ]
    }
   ],
   "source": [
    "# 4. upper(소->대), lower(대 -> 소)\n",
    "a = 'hi' \n",
    "print(a.upper()) #소문자를 받는 a => 복사본을 받는다.\n",
    "print(a) # 기존의 a값은 변화 없다.\n",
    "\n",
    "a = a.upper()\n",
    "print(a) # 대문자 변경된 것을 출력\n",
    "print(a.lower())"
   ]
  },
  {
   "cell_type": "code",
   "execution_count": 108,
   "metadata": {},
   "outputs": [
    {
     "name": "stdout",
     "output_type": "stream",
     "text": [
      "문자 길이 :  6\n",
      "  hi의 문자길이 : 4\n",
      "hi  의 문자길이 : 4\n",
      "hi의 문자길이 : 2\n"
     ]
    }
   ],
   "source": [
    "# 양쪽 공백 지우기 : 중간에 있는  공백 삭제 불가\n",
    "# strip() : lstrip(), rstrip(), strip()\n",
    "# lstrip() : left, rstrip() : right, strip() : left, right\n",
    "a = '  hi  '\n",
    "print('문자 길이 : ', len(a))\n",
    "b = a.rstrip()\n",
    "print(b + '의 문자길이 : ' +str(len(b)))\n",
    "c = a.lstrip()\n",
    "print(c + '의 문자길이 : ' +str(len(c)))\n",
    "d = a.strip()\n",
    "print(d + '의 문자길이 : ' +str(len(d)))\n"
   ]
  },
  {
   "cell_type": "code",
   "execution_count": 3,
   "metadata": {},
   "outputs": [
    {
     "name": "stdout",
     "output_type": "stream",
     "text": [
      "사과를 1개, 배 먹었다\n",
      "사과를 five개, 배 먹었다\n"
     ]
    }
   ],
   "source": [
    "# 문자열 object 생성 -> self 생성 -> 메소드(format) 사용가능\n",
    "num1 = 1\n",
    "\n",
    "a = '사과를 {0}개, 배 먹었다'\n",
    "# a.format()\n",
    "print(a.format(num1))\n",
    "print(a.format('five'))"
   ]
  },
  {
   "cell_type": "code",
   "execution_count": 8,
   "metadata": {},
   "outputs": [
    {
     "name": "stdout",
     "output_type": "stream",
     "text": [
      "I ate 1 apples. so i was sick for three days\n"
     ]
    }
   ],
   "source": [
    "# 2개 이상의 값 넣기\n",
    "number = 1\n",
    "day = 'three'\n",
    "\n",
    "str_ = 'I ate {0} apples. so i was sick for {1} days'\n",
    "print(str_.format(number, day))"
   ]
  },
  {
   "cell_type": "code",
   "execution_count": null,
   "metadata": {},
   "outputs": [
    {
     "name": "stdout",
     "output_type": "stream",
     "text": [
      "I ate 1 apples. so i was sick for three days\n"
     ]
    }
   ],
   "source": [
    "# format method 변수명으로 넣기\n",
    "\n",
    "str_ = 'I ate {number} apples. so i was sick for {day} days'\n",
    "# 초기화해서 호출해야된다\n",
    "print(str_.format(number=1, day='three')) "
   ]
  },
  {
   "cell_type": "code",
   "execution_count": 20,
   "metadata": {},
   "outputs": [
    {
     "name": "stdout",
     "output_type": "stream",
     "text": [
      "I ate 1 apples. so i was sick for three days\n"
     ]
    }
   ],
   "source": [
    "# f-string 방식으로 변수명으로 넣기\n",
    "number = 1\n",
    "day = 'three'\n",
    "\n",
    "\n",
    "# 초기화해서 호출해야된다\n",
    "print(f'I ate {number} apples. so i was sick for {day} days') "
   ]
  },
  {
   "cell_type": "code",
   "execution_count": null,
   "metadata": {},
   "outputs": [],
   "source": []
  }
 ],
 "metadata": {
  "kernelspec": {
   "display_name": "firstenv",
   "language": "python",
   "name": "python3"
  },
  "language_info": {
   "codemirror_mode": {
    "name": "ipython",
    "version": 3
   },
   "file_extension": ".py",
   "mimetype": "text/x-python",
   "name": "python",
   "nbconvert_exporter": "python",
   "pygments_lexer": "ipython3",
   "version": "3.10.16"
  }
 },
 "nbformat": 4,
 "nbformat_minor": 2
}
