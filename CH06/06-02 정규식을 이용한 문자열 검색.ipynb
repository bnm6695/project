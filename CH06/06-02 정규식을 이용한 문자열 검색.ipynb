{
 "cells": [
  {
   "cell_type": "code",
   "execution_count": 11,
   "metadata": {},
   "outputs": [
    {
     "name": "stdout",
     "output_type": "stream",
     "text": [
      "<re.Match object; span=(0, 6), match='python'>\n",
      "python\n",
      "['python']\n"
     ]
    }
   ],
   "source": [
    "# match method\n",
    "import re\n",
    "\n",
    "# 패턴 생성 : compile() function => return pattren object \n",
    "p_str = '[a-z]+' # 소문자 1개 이상 \n",
    "pat = re.compile(p_str)\n",
    "\n",
    "str_ = 'python' # 매칭할 문자열\n",
    "f = pat.findall(str_)\n",
    "m = pat.match(str_) # match : 전체를 처음부터 검색하기 때문에 1부터 match되지않아 none이 됨\n",
    "# s1 = pat.search(str_) # search : 전체에서 python을 찾기 때문에 값이 나온다.\n",
    "print(m)\n",
    "print(m.group())\n",
    "print(f)\n",
    "# print(s1)"
   ]
  },
  {
   "cell_type": "code",
   "execution_count": null,
   "metadata": {},
   "outputs": [],
   "source": [
    "# match object\n",
    "# match에서 꺼낼려면 group을 써야된다.\n",
    "\n",
    "# search object\n",
    "# search에서 꺼낼려면 group 써야된다"
   ]
  },
  {
   "cell_type": "code",
   "execution_count": 17,
   "metadata": {},
   "outputs": [
    {
     "name": "stdout",
     "output_type": "stream",
     "text": [
      "match 없다\n",
      "match 없다\n"
     ]
    }
   ],
   "source": [
    "# match method\n",
    "import re\n",
    "\n",
    "# 패턴 생성 : compile() function => return pattren object \n",
    "p_str = '[a-z]+' # 소문자 1개 이상 \n",
    "pat = re.compile(p_str)\n",
    "\n",
    "str_ = '3 python' # 매칭할 문자열\n",
    "\n",
    "m = pat.match(str_) # match : 전체를 처음부터 검색하기 때문에 1부터 match되지않아 none이 됨\n",
    "# s1 = pat.search(str_) # search : 전체에서 python을 찾기 때문에 값이 나온다.\n",
    "if m != None :\n",
    "    print(m.group())\n",
    "else:\n",
    "    print('match 없다')\n",
    "\n",
    "\n",
    "if m: \n",
    "    print(m.group())    \n",
    "else:\n",
    "    print('match 없다')\n",
    "\n"
   ]
  },
  {
   "cell_type": "code",
   "execution_count": null,
   "metadata": {},
   "outputs": [
    {
     "name": "stdout",
     "output_type": "stream",
     "text": [
      "['l', 'i', 'f', 'e', 'i', 's', 't', 'o', 'o', 's', 'h', 'o', 'r', 't']\n"
     ]
    }
   ],
   "source": [
    "# findall\n",
    "# findall은 group을 쓸필요없다.\n",
    "p_str = '[a-z]' # 소문자 1자씩\n",
    "pat = re.compile(p_str)\n",
    "\n",
    "str_ = 'life is too short'\n",
    "result = pat.findall(str_)\n",
    "print(result)\n",
    "\n"
   ]
  },
  {
   "cell_type": "code",
   "execution_count": 26,
   "metadata": {},
   "outputs": [
    {
     "name": "stdout",
     "output_type": "stream",
     "text": [
      "['life', 'is', 'too', 'short']\n"
     ]
    }
   ],
   "source": [
    "# findall\n",
    "p_str = '[a-z]+' # 한단어 씩\n",
    "pat = re.compile(p_str)\n",
    "\n",
    "str_ = 'life is too short'\n",
    "# str_ = 'life#is@too#short' # 같은 결과가 나온다. \n",
    "result = pat.findall(str_)\n",
    "print(result)\n"
   ]
  },
  {
   "cell_type": "code",
   "execution_count": null,
   "metadata": {},
   "outputs": [
    {
     "name": "stdout",
     "output_type": "stream",
     "text": [
      "[' ', ' ', ' ']\n"
     ]
    }
   ],
   "source": [
    "p_str = '[^a-z]+' # ^ => not\n",
    "pat = re.compile(p_str)\n",
    "\n",
    "str_ = 'life is too short'\n",
    "result = pat.findall(str_)\n",
    "print(result)\n"
   ]
  },
  {
   "cell_type": "code",
   "execution_count": null,
   "metadata": {},
   "outputs": [
    {
     "name": "stdout",
     "output_type": "stream",
     "text": [
      "['life', 'too', 'short']\n"
     ]
    }
   ],
   "source": [
    "p_str = '[a-z]{3,5}' # a부터 z까지 3자에서 5자사이인 단어 추출\n",
    "pat = re.compile(p_str)\n",
    "\n",
    "str_ = 'life is too short' \n",
    "result = pat.findall(str_)\n",
    "print(result)\n"
   ]
  },
  {
   "cell_type": "code",
   "execution_count": 32,
   "metadata": {},
   "outputs": [
    {
     "name": "stdout",
     "output_type": "stream",
     "text": [
      "['life', 'shor']\n"
     ]
    }
   ],
   "source": [
    "p_str = '[a-z]{4}' # a부터 z까지 4자까지 가져옴 5자이면 4자만 가져옴\n",
    "pat = re.compile(p_str)\n",
    "\n",
    "str_ = 'life is too short' \n",
    "result = pat.findall(str_)\n",
    "print(result)"
   ]
  },
  {
   "cell_type": "code",
   "execution_count": null,
   "metadata": {},
   "outputs": [
    {
     "name": "stdout",
     "output_type": "stream",
     "text": [
      "['python one', 'python two', 'python three']\n"
     ]
    }
   ],
   "source": [
    "import re\n",
    "\n",
    "p_str ='^python\\s\\w+'\n",
    "pat = re.compile(p_str, re.MULTILINE)\n",
    "# multiline은 ^가 있을때 주로 사용한다.\n",
    "# 아래 data는 한줄이다. multiline을 쓰게 되면 한문장씩 나눠서 추출하게된다.\n",
    "data = '''python one \n",
    "life is too short\n",
    "python two\n",
    "you nedd python \n",
    "python three'''\n",
    "\n",
    "print(pat.findall(data))"
   ]
  },
  {
   "cell_type": "code",
   "execution_count": null,
   "metadata": {},
   "outputs": [],
   "source": [
    "\n"
   ]
  }
 ],
 "metadata": {
  "kernelspec": {
   "display_name": "firstenv",
   "language": "python",
   "name": "python3"
  },
  "language_info": {
   "codemirror_mode": {
    "name": "ipython",
    "version": 3
   },
   "file_extension": ".py",
   "mimetype": "text/x-python",
   "name": "python",
   "nbconvert_exporter": "python",
   "pygments_lexer": "ipython3",
   "version": "3.10.16"
  }
 },
 "nbformat": 4,
 "nbformat_minor": 2
}
