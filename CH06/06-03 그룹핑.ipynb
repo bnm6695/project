{
 "cells": [
  {
   "cell_type": "code",
   "execution_count": 3,
   "metadata": {},
   "outputs": [
    {
     "name": "stdout",
     "output_type": "stream",
     "text": [
      "park 010-1234-1234\n"
     ]
    },
    {
     "data": {
      "text/plain": [
       "'park'"
      ]
     },
     "execution_count": 3,
     "metadata": {},
     "output_type": "execute_result"
    }
   ],
   "source": [
    "# 연락처 문자열에서 이름만 추출\n",
    "# 'park 010-1234-1234' : \n",
    "# \\W+ : 알파벳숫자 1개 이상 \n",
    "# \\s+ : 공백 1개 이상\n",
    "# 숫자(3자리:010)-숫자(4자리)-숫자(4자리)\n",
    "import re\n",
    "data = 'park 010-1234-1234' \n",
    "\n",
    "p_str = '\\w+\\s+010[-]\\d{4}[-]\\d{4}'\n",
    "\n",
    "pat = re.compile(p_str)\n",
    "m = pat.search(data)\n",
    "print(m.group())\n",
    "m.group().split()[0]"
   ]
  },
  {
   "cell_type": "code",
   "execution_count": 14,
   "metadata": {},
   "outputs": [
    {
     "name": "stdout",
     "output_type": "stream",
     "text": [
      "park 02-1234-1234\n",
      "park\n",
      "02-1234-1234\n",
      "02\n"
     ]
    }
   ],
   "source": [
    "# 그룹핑\n",
    "data = 'park 02-1234-1234' \n",
    "\n",
    "# 국번 : 02,031\n",
    "p_str = '(\\w+)\\s+((\\d{2,3})[-]\\d{4}[-]\\d{4})'\n",
    "\n",
    "pat = re.compile(p_str)\n",
    "m = pat.search(data)\n",
    "print(m.group()) # 소괄호로 그룹핑을 해놔도 그룹에 숫자를 기입안하면 전체 문자열이 나옴\n",
    "print(m.group(1)) # 번호를 기입하면 해당 그룹만 추출.\n",
    "print(m.group(2))\n",
    "print(m.group(3)) # 소괄호안에 소괄호가 마지막 번호가 됨. "
   ]
  },
  {
   "cell_type": "code",
   "execution_count": null,
   "metadata": {},
   "outputs": [
    {
     "name": "stdout",
     "output_type": "stream",
     "text": [
      "park 02-1234-1234\n",
      "park\n",
      "02-1234-1234\n",
      "02\n"
     ]
    }
   ],
   "source": [
    "# 그룹핑 + 이름 붙이기\n",
    "data = 'park 02-1234-1234' \n",
    "\n",
    "# 국번 : 02,031\n",
    "p_str = '(?P<name>\\w+)\\s+((\\d{2,3})[-]\\d{4}[-]\\d{4})' # 그룹안에 (?P)\n",
    "\n",
    "pat = re.compile(p_str)\n",
    "m = pat.search(data)\n",
    "print(m.group()) # 소괄호로 그룹핑을 해놔도 그룹에 숫자를 기입안하면 전체 문자열이 나옴\n",
    "print(m.group('name')) # 번호를 기입하면 해당 그룹만 추출.\n",
    "print(m.group(2))\n",
    "print(m.group(3)) # 소괄호안에 소괄호가 마지막 번호가 됨. "
   ]
  },
  {
   "cell_type": "code",
   "execution_count": 13,
   "metadata": {},
   "outputs": [
    {
     "data": {
      "text/plain": [
       "'the the'"
      ]
     },
     "execution_count": 13,
     "metadata": {},
     "output_type": "execute_result"
    }
   ],
   "source": [
    "# 재참조\n",
    "# the the \n",
    "data = 'Paris in the the spring'\n",
    "p_str = r'(\\b\\w+)\\s+\\1'\n",
    "re.search(p_str, data).group()"
   ]
  },
  {
   "cell_type": "code",
   "execution_count": null,
   "metadata": {},
   "outputs": [
    {
     "name": "stdout",
     "output_type": "stream",
     "text": [
      "http:\n"
     ]
    }
   ],
   "source": [
    "#전방 탐색\n",
    "pat = re.compile('.+:')\n",
    "m = pat.search('http://google.com')\n",
    "print(m.group()) "
   ]
  },
  {
   "cell_type": "code",
   "execution_count": null,
   "metadata": {},
   "outputs": [
    {
     "name": "stdout",
     "output_type": "stream",
     "text": [
      "http\n"
     ]
    }
   ],
   "source": [
    "# http: => http만 추출하기, 슬라이싱 이용\n",
    "pat = re.compile('.+:')\n",
    "m = pat.search('http://google.com')\n",
    "print(m.group()[:-1]) "
   ]
  },
  {
   "cell_type": "code",
   "execution_count": null,
   "metadata": {},
   "outputs": [
    {
     "name": "stdout",
     "output_type": "stream",
     "text": [
      "http\n"
     ]
    }
   ],
   "source": [
    "# 긍정(?=...) 전방 탐색 \n",
    "pat = re.compile('.+(?=:)')\n",
    "m = pat.search('http://google.com')\n",
    "print(m.group()) # http: => http만 추출하기\n"
   ]
  },
  {
   "cell_type": "code",
   "execution_count": null,
   "metadata": {},
   "outputs": [],
   "source": [
    "# 예제\n",
    "# foo.bar, autoexex.bat, sendmail.cf\n",
    "# 파일명(알파벳, 숫자) + . + 확장자(알파벳, 숫자)\n",
    "# .*                    [.]     .*$\n",
    "#.*[.].*$ \n",
    "# 위 파일에서 bat인 파일을 제외\n",
    "#.*[.][^b].*$ : bar도 포함되서 제외된다. \n",
    "#.*[.]([^b]..|.[^a].|..[^t])*$ : cf도 포함되서 제외된다.\n",
    "#.*[.]([^b]..?|.[^a].?|..[^t]?)*$ \n",
    "\n",
    "\n",
    "\n",
    "\n",
    "\n",
    "\n",
    "\n"
   ]
  },
  {
   "cell_type": "code",
   "execution_count": null,
   "metadata": {},
   "outputs": [
    {
     "data": {
      "text/plain": [
       "[]"
      ]
     },
     "execution_count": 24,
     "metadata": {},
     "output_type": "execute_result"
    }
   ],
   "source": [
    "# 메일 가운데 gmail 인 사원 추출\n",
    "# 긍정\n",
    "email_data = 'user@gmail.com user2@naver.com user@gmail.com'\n",
    "\n",
    "# pattern = '\\w+@gmail[.]com'\n",
    "\n",
    "# re.findall(pattern, email_data)\n",
    "\n",
    "# 메일 가운데 gmail 인 사원명만 추출\n",
    "\n",
    "pattern = '\\w+(?=@gamil[.]com)'\n",
    "\n",
    "re.findall(pattern, email_data)\n"
   ]
  },
  {
   "cell_type": "code",
   "execution_count": null,
   "metadata": {},
   "outputs": [
    {
     "data": {
      "text/plain": [
       "['test', 'test']"
      ]
     },
     "execution_count": 27,
     "metadata": {},
     "output_type": "execute_result"
    }
   ],
   "source": [
    "# 부정 전방 탐색\n",
    "# aaa가 뒤에 나오지 않는 test만 추출\n",
    "\n",
    "text = 'testaaa test123 test'\n",
    "\n",
    "pattern = 'test(?!aaa)'\n",
    "\n",
    "re.findall(pattern, text)\n",
    "\n",
    "\n"
   ]
  },
  {
   "cell_type": "code",
   "execution_count": 36,
   "metadata": {},
   "outputs": [
    {
     "data": {
      "text/plain": [
       "['word', 'word', 'word']"
      ]
     },
     "execution_count": 36,
     "metadata": {},
     "output_type": "execute_result"
    }
   ],
   "source": [
    "# 긍정 부정\n",
    "# word 다음에 123이 있는 경우만 찾되, 456은 제외\n",
    "data = 'word123 word123456 word789 word123'\n",
    "pattern = 'word(?=123)'\n",
    "\n",
    "re.findall(pattern, data)"
   ]
  },
  {
   "cell_type": "code",
   "execution_count": null,
   "metadata": {},
   "outputs": [],
   "source": []
  },
  {
   "cell_type": "code",
   "execution_count": null,
   "metadata": {},
   "outputs": [],
   "source": []
  },
  {
   "cell_type": "code",
   "execution_count": null,
   "metadata": {},
   "outputs": [],
   "source": []
  },
  {
   "cell_type": "code",
   "execution_count": null,
   "metadata": {},
   "outputs": [],
   "source": []
  },
  {
   "cell_type": "code",
   "execution_count": null,
   "metadata": {},
   "outputs": [],
   "source": []
  },
  {
   "cell_type": "code",
   "execution_count": null,
   "metadata": {},
   "outputs": [],
   "source": []
  },
  {
   "cell_type": "code",
   "execution_count": null,
   "metadata": {},
   "outputs": [],
   "source": []
  },
  {
   "cell_type": "code",
   "execution_count": null,
   "metadata": {},
   "outputs": [],
   "source": []
  }
 ],
 "metadata": {
  "kernelspec": {
   "display_name": "firstenv",
   "language": "python",
   "name": "python3"
  },
  "language_info": {
   "codemirror_mode": {
    "name": "ipython",
    "version": 3
   },
   "file_extension": ".py",
   "mimetype": "text/x-python",
   "name": "python",
   "nbconvert_exporter": "python",
   "pygments_lexer": "ipython3",
   "version": "3.10.16"
  }
 },
 "nbformat": 4,
 "nbformat_minor": 2
}
