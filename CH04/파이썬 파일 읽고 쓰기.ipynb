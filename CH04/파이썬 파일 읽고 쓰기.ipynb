{
 "cells": [
  {
   "cell_type": "code",
   "execution_count": null,
   "metadata": {},
   "outputs": [],
   "source": [
    "\n",
    "# 관리자 권한으로 만들어 놓지 않으면 열고 쓰기가 안된다.\n",
    "# 현재 디렉토리에 파일 생성\n",
    "# 1. open(파일명 : new.txt, 모드: w)\n",
    "# w : 덮어쓰기\n",
    "f = open('new.txt', 'w')\n",
    "# 2. close\n",
    "f.close()"
   ]
  },
  {
   "cell_type": "code",
   "execution_count": 5,
   "metadata": {},
   "outputs": [],
   "source": [
    "# text file 파일 쓰기(write mode)\n",
    "# keyword = argument 방식 똑같음 \n",
    "# 1.open\n",
    "# f = open(file = 'new txt',mode ='w') # keyword 방식\n",
    "f = open('new.txt','w') # positional argument 방식\n",
    "\n",
    "# 2. data  => file write\n",
    "#data creation\n",
    "for num in range(1,6):\n",
    "    data = f'{num}번째 줄\\n'\n",
    "    f.write(data) # 파일에 쓰기\n",
    "# 3. close\n",
    "f.close()"
   ]
  },
  {
   "cell_type": "code",
   "execution_count": 10,
   "metadata": {},
   "outputs": [
    {
     "name": "stdout",
     "output_type": "stream",
     "text": [
      "1번째 줄\n",
      "2번째 줄\n",
      "3번째 줄\n",
      "4번째 줄\n",
      "5번째 줄\n"
     ]
    }
   ],
   "source": [
    "# text file read\n",
    "# 1. open :\n",
    "# f = open('new1.txt', 'r') 파일이 없을 경우 에러 발생\n",
    "# FileNotFoundError\n",
    "f = open('new.txt','r')\n",
    "# 2. read : \n",
    "# readline() : 한줄씩 읽기\n",
    "while True: \n",
    "    line = f.readline()\n",
    "    if not line: # 없을 경우 False 때문에 not 붙여서 True\n",
    "        break\n",
    "    print(line, end='')\n",
    "# readlines() : 한줄씩 읽어서 리스트 저장 반환\n",
    "# read() : 통으로 읽기 => 문자열로 반환된다.\n",
    "\n",
    "# 3. close :\n",
    "f.close()"
   ]
  },
  {
   "cell_type": "code",
   "execution_count": 13,
   "metadata": {},
   "outputs": [
    {
     "name": "stdout",
     "output_type": "stream",
     "text": [
      "['1번째 줄\\n', '2번째 줄\\n', '3번째 줄\\n', '4번째 줄\\n', '5번째 줄\\n']\n",
      "1번째 줄\n",
      "2번째 줄\n",
      "3번째 줄\n",
      "4번째 줄\n",
      "5번째 줄\n"
     ]
    }
   ],
   "source": [
    "# readLines() => 전체 읽기  \n",
    "# 한줄씩 문자로 만들어서 리스트 반환\n",
    "\n",
    "# 1. open\n",
    "f = open('new.txt', 'r')\n",
    "# 2. readlines\n",
    "lines = f.readlines()\n",
    "print(lines)\n",
    "for line in lines:\n",
    "    print(line, end='')\n",
    "# 3.close\n",
    "f.close()"
   ]
  },
  {
   "cell_type": "code",
   "execution_count": 16,
   "metadata": {},
   "outputs": [
    {
     "data": {
      "text/plain": [
       "['1번째 줄', '2번째 줄', '3번째 줄', '4번째 줄', '5번째 줄', '']"
      ]
     },
     "execution_count": 16,
     "metadata": {},
     "output_type": "execute_result"
    }
   ],
   "source": [
    "# read()\n",
    "f = open('new.txt','r')\n",
    "data = f.read()\n",
    "f.close()\n",
    "data = data.split('\\n')\n",
    "data"
   ]
  },
  {
   "cell_type": "code",
   "execution_count": 17,
   "metadata": {},
   "outputs": [
    {
     "name": "stdout",
     "output_type": "stream",
     "text": [
      "['1번째 줄\\n', '2번째 줄\\n', '3번째 줄\\n', '4번째 줄\\n', '5번째 줄\\n']\n"
     ]
    }
   ],
   "source": [
    "with open('new.txt','r') as f: # 자동 close 처리된다\n",
    "    data = f.readlines()\n",
    "    print(data)"
   ]
  },
  {
   "cell_type": "code",
   "execution_count": null,
   "metadata": {},
   "outputs": [],
   "source": []
  }
 ],
 "metadata": {
  "kernelspec": {
   "display_name": "firstenv",
   "language": "python",
   "name": "python3"
  },
  "language_info": {
   "codemirror_mode": {
    "name": "ipython",
    "version": 3
   },
   "file_extension": ".py",
   "mimetype": "text/x-python",
   "name": "python",
   "nbconvert_exporter": "python",
   "pygments_lexer": "ipython3",
   "version": "3.10.16"
  }
 },
 "nbformat": 4,
 "nbformat_minor": 2
}
